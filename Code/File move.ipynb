{
 "cells": [
  {
   "cell_type": "code",
   "execution_count": 1,
   "metadata": {},
   "outputs": [],
   "source": [
    "import shutil\n",
    "import os"
   ]
  },
  {
   "cell_type": "code",
   "execution_count": 2,
   "metadata": {},
   "outputs": [],
   "source": [
    "data_path = \"../data/220114제공데이터/01.원천데이터/식의약용 자생식물 분석 데이터/\"\n",
    "label_path = \"../data/220114제공데이터/02.라벨링데이터/식의약용 자생식물 분석 데이터/\"\n",
    "move_path = \"../yolov5/data/plant_img\""
   ]
  },
  {
   "cell_type": "code",
   "execution_count": 6,
   "metadata": {},
   "outputs": [],
   "source": [
    "for one in os.listdir(label_path):\n",
    "    one_ = os.listdir(label_path+one)\n",
    "    for two in one_:\n",
    "        two_ = os.listdir(label_path+one+\"/\"+two)\n",
    "        for f in two_:\n",
    "            shutil.move(label_path+one+\"/\"+two+\"/\"+f, move_path)"
   ]
  },
  {
   "cell_type": "code",
   "execution_count": 7,
   "metadata": {},
   "outputs": [],
   "source": [
    "for one in os.listdir(label_path):\n",
    "    one_ = os.listdir(label_path+one)\n",
    "    for two in one_:\n",
    "        two_ = os.listdir(label_path+one+\"/\"+two)\n",
    "        for f in two_:\n",
    "            shutil.move(label_path+one+\"/\"+two+\"/\"+f, move_path)"
   ]
  }
 ],
 "metadata": {
  "kernelspec": {
   "display_name": "Python 3 (ipykernel)",
   "language": "python",
   "name": "python3"
  },
  "language_info": {
   "codemirror_mode": {
    "name": "ipython",
    "version": 3
   },
   "file_extension": ".py",
   "mimetype": "text/x-python",
   "name": "python",
   "nbconvert_exporter": "python",
   "pygments_lexer": "ipython3",
   "version": "3.8.12"
  }
 },
 "nbformat": 4,
 "nbformat_minor": 4
}
