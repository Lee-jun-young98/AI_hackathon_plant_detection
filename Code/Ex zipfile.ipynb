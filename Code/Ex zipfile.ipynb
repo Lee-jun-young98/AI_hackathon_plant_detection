{
 "cells": [
  {
   "cell_type": "code",
   "execution_count": 3,
   "metadata": {},
   "outputs": [],
   "source": [
    "import zipfile\n",
    "import os"
   ]
  },
  {
   "cell_type": "code",
   "execution_count": 4,
   "metadata": {},
   "outputs": [],
   "source": [
    "file_dir = \"../\"\n",
    "ex_dir = \"../data\""
   ]
  },
  {
   "cell_type": "code",
   "execution_count": 22,
   "metadata": {},
   "outputs": [
    {
     "name": "stdout",
     "output_type": "stream",
     "text": [
      "완료: 220114제공데이터-20220114T024624Z-001.zip\n",
      "완료: 220114제공데이터-20220114T024624Z-002.zip\n",
      "완료: 220114제공데이터-20220114T024624Z-003.zip\n",
      "완료: 220114제공데이터-20220114T024624Z-004.zip\n"
     ]
    }
   ],
   "source": [
    "for name in os.listdir(file_dir):\n",
    "    if \".zip\" in name:\n",
    "        zipfile.ZipFile(file_dir+name).extractall(ex_dir)\n",
    "        print(\"완료: \"+name)"
   ]
  },
  {
   "cell_type": "code",
   "execution_count": 5,
   "metadata": {},
   "outputs": [
    {
     "name": "stdout",
     "output_type": "stream",
     "text": [
      "삭제: 220114제공데이터-20220114T024624Z-001.zip\n",
      "삭제: 220114제공데이터-20220114T024624Z-002.zip\n",
      "삭제: 220114제공데이터-20220114T024624Z-003.zip\n",
      "삭제: 220114제공데이터-20220114T024624Z-004.zip\n"
     ]
    }
   ],
   "source": [
    "for name in os.listdir(file_dir):\n",
    "    if \".zip\" in name:\n",
    "        os.remove(file_dir+name)\n",
    "        print(\"삭제: \"+name)"
   ]
  }
 ],
 "metadata": {
  "kernelspec": {
   "display_name": "Python 3 (ipykernel)",
   "language": "python",
   "name": "python3"
  },
  "language_info": {
   "codemirror_mode": {
    "name": "ipython",
    "version": 3
   },
   "file_extension": ".py",
   "mimetype": "text/x-python",
   "name": "python",
   "nbconvert_exporter": "python",
   "pygments_lexer": "ipython3",
   "version": "3.8.12"
  }
 },
 "nbformat": 4,
 "nbformat_minor": 4
}
