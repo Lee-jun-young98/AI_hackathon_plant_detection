{
 "cells": [
  {
   "cell_type": "code",
   "execution_count": 1,
   "id": "43fc4764",
   "metadata": {},
   "outputs": [],
   "source": [
    "import os"
   ]
  },
  {
   "cell_type": "code",
   "execution_count": 2,
   "id": "5193225b",
   "metadata": {},
   "outputs": [],
   "source": [
    "os.chdir(\"../yolov5\")"
   ]
  },
  {
   "cell_type": "code",
   "execution_count": 3,
   "id": "e9ef2cf2",
   "metadata": {},
   "outputs": [
    {
     "data": {
      "text/plain": [
       "'C:\\\\Users\\\\user\\\\plant\\\\yolov5'"
      ]
     },
     "execution_count": 3,
     "metadata": {},
     "output_type": "execute_result"
    }
   ],
   "source": [
    "os.getcwd()"
   ]
  },
  {
   "cell_type": "code",
   "execution_count": 4,
   "id": "d9e35448",
   "metadata": {},
   "outputs": [],
   "source": [
    "names = os.listdir(\"data/test_img\")"
   ]
  },
  {
   "cell_type": "code",
   "execution_count": 5,
   "id": "20dea9c1",
   "metadata": {},
   "outputs": [],
   "source": [
    "imgsz = 512"
   ]
  },
  {
   "cell_type": "code",
   "execution_count": 6,
   "id": "4e0f7681",
   "metadata": {},
   "outputs": [
    {
     "name": "stdout",
     "output_type": "stream",
     "text": [
      "\u001b[31m\u001b[1mrequirements:\u001b[0m opencv-python>=4.1.2 not found and is required by YOLOv5, attempting auto-update...\n",
      "\u001b[31m\u001b[1mrequirements:\u001b[0m 'pip install opencv-python>=4.1.2' skipped (offline)\n",
      "Sucess detection:Baek ryang geum (Fruit)\n"
     ]
    },
    {
     "name": "stderr",
     "output_type": "stream",
     "text": [
      "\u001b[34m\u001b[1mdetect: \u001b[0mweights=['plant_256.pt'], source=data/test_img/Baek ryang geum (Fruit)/, data=data/plant.yaml, imgsz=[512, 512], conf_thres=0.3, iou_thres=0.45, max_det=1000, device=0, view_img=False, save_txt=False, save_conf=False, save_crop=False, nosave=False, classes=None, agnostic_nms=False, augment=False, visualize=False, update=False, project=runs\\detect, name=Baek ryang geum (Fruit), exist_ok=False, line_thickness=3, hide_labels=False, hide_conf=False, half=False, dnn=False\n",
      "YOLOv5  v6.0-189-gaf00134 torch 1.9.0+cu111 CUDA:0 (NVIDIA GeForce RTX 3090, 24576MiB)\n",
      "\n",
      "Fusing layers... \n",
      "Model Summary: 213 layers, 7058671 parameters, 0 gradients\n",
      "image 1/10 C:\\Users\\user\\plant\\yolov5\\data\\test_img\\Baek ryang geum (Fruit)\\1.jpg: 320x512 Done. (0.013s)\n",
      "image 2/10 C:\\Users\\user\\plant\\yolov5\\data\\test_img\\Baek ryang geum (Fruit)\\10.jpg: 512x352 1 Cham kkot (Flower), 1 Baek ryang geum (Fruit), Done. (0.011s)\n",
      "image 3/10 C:\\Users\\user\\plant\\yolov5\\data\\test_img\\Baek ryang geum (Fruit)\\2.jpg: 352x512 1 Cham kkot (Flower), Done. (0.012s)\n",
      "image 4/10 C:\\Users\\user\\plant\\yolov5\\data\\test_img\\Baek ryang geum (Fruit)\\3.jpg: 352x512 2 Cham kkot (Flower)s, Done. (0.008s)\n",
      "image 5/10 C:\\Users\\user\\plant\\yolov5\\data\\test_img\\Baek ryang geum (Fruit)\\4.jpg: 352x512 Done. (0.008s)\n",
      "image 6/10 C:\\Users\\user\\plant\\yolov5\\data\\test_img\\Baek ryang geum (Fruit)\\5.jpg: 352x512 Done. (0.008s)\n",
      "image 7/10 C:\\Users\\user\\plant\\yolov5\\data\\test_img\\Baek ryang geum (Fruit)\\6.jpg: 352x512 1 Cham kkot (Flower), Done. (0.009s)\n",
      "image 8/10 C:\\Users\\user\\plant\\yolov5\\data\\test_img\\Baek ryang geum (Fruit)\\7.jpg: 352x512 Done. (0.008s)\n",
      "image 9/10 C:\\Users\\user\\plant\\yolov5\\data\\test_img\\Baek ryang geum (Fruit)\\8.jpg: 352x512 Done. (0.008s)\n",
      "image 10/10 C:\\Users\\user\\plant\\yolov5\\data\\test_img\\Baek ryang geum (Fruit)\\9.jpg: 512x416 1 Cham kkot (Flower), Done. (0.011s)\n",
      "Speed: 0.5ms pre-process, 9.6ms inference, 0.6ms NMS per image at shape (1, 3, 512, 512)\n",
      "Results saved to \u001b[1mruns\\detect\\Baek ryang geum (Fruit)\u001b[0m\n"
     ]
    },
    {
     "name": "stdout",
     "output_type": "stream",
     "text": [
      "\u001b[31m\u001b[1mrequirements:\u001b[0m opencv-python>=4.1.2 not found and is required by YOLOv5, attempting auto-update...\n",
      "\u001b[31m\u001b[1mrequirements:\u001b[0m 'pip install opencv-python>=4.1.2' skipped (offline)\n",
      "Sucess detection:Cham ga si (Fruit)\n"
     ]
    },
    {
     "name": "stderr",
     "output_type": "stream",
     "text": [
      "\u001b[34m\u001b[1mdetect: \u001b[0mweights=['plant_256.pt'], source=data/test_img/Cham ga si (Fruit)/, data=data/plant.yaml, imgsz=[512, 512], conf_thres=0.3, iou_thres=0.45, max_det=1000, device=0, view_img=False, save_txt=False, save_conf=False, save_crop=False, nosave=False, classes=None, agnostic_nms=False, augment=False, visualize=False, update=False, project=runs\\detect, name=Cham ga si (Fruit), exist_ok=False, line_thickness=3, hide_labels=False, hide_conf=False, half=False, dnn=False\n",
      "YOLOv5  v6.0-189-gaf00134 torch 1.9.0+cu111 CUDA:0 (NVIDIA GeForce RTX 3090, 24576MiB)\n",
      "\n",
      "Fusing layers... \n",
      "Model Summary: 213 layers, 7058671 parameters, 0 gradients\n",
      "image 1/10 C:\\Users\\user\\plant\\yolov5\\data\\test_img\\Cham ga si (Fruit)\\1.jpg: 512x512 4 Don (Fruit)s, Done. (0.007s)\n",
      "image 2/10 C:\\Users\\user\\plant\\yolov5\\data\\test_img\\Cham ga si (Fruit)\\10.jpg: 512x512 Done. (0.008s)\n",
      "image 3/10 C:\\Users\\user\\plant\\yolov5\\data\\test_img\\Cham ga si (Fruit)\\2.jpg: 352x512 Done. (0.012s)\n",
      "image 4/10 C:\\Users\\user\\plant\\yolov5\\data\\test_img\\Cham ga si (Fruit)\\3.jpg: 512x480 Done. (0.011s)\n",
      "image 5/10 C:\\Users\\user\\plant\\yolov5\\data\\test_img\\Cham ga si (Fruit)\\4.jpg: 512x480 1 Jop eun ip cheon seon gwa (Fruit), Done. (0.007s)\n",
      "image 6/10 C:\\Users\\user\\plant\\yolov5\\data\\test_img\\Cham ga si (Fruit)\\5.jpg: 512x512 Done. (0.008s)\n",
      "image 7/10 C:\\Users\\user\\plant\\yolov5\\data\\test_img\\Cham ga si (Fruit)\\6.jpg: 512x512 Done. (0.008s)\n",
      "image 8/10 C:\\Users\\user\\plant\\yolov5\\data\\test_img\\Cham ga si (Fruit)\\7.jpg: 512x480 Done. (0.008s)\n",
      "image 9/10 C:\\Users\\user\\plant\\yolov5\\data\\test_img\\Cham ga si (Fruit)\\8.jpg: 512x480 Done. (0.008s)\n",
      "image 10/10 C:\\Users\\user\\plant\\yolov5\\data\\test_img\\Cham ga si (Fruit)\\9.jpg: 512x512 1 Don (Fruit), Done. (0.008s)\n",
      "Speed: 0.3ms pre-process, 8.5ms inference, 0.8ms NMS per image at shape (1, 3, 512, 512)\n",
      "Results saved to \u001b[1mruns\\detect\\Cham ga si (Fruit)\u001b[0m\n"
     ]
    },
    {
     "name": "stdout",
     "output_type": "stream",
     "text": [
      "\u001b[31m\u001b[1mrequirements:\u001b[0m opencv-python>=4.1.2 not found and is required by YOLOv5, attempting auto-update...\n",
      "\u001b[31m\u001b[1mrequirements:\u001b[0m 'pip install opencv-python>=4.1.2' skipped (offline)\n",
      "Sucess detection:Cham kkot (Flower)\n"
     ]
    },
    {
     "name": "stderr",
     "output_type": "stream",
     "text": [
      "\u001b[34m\u001b[1mdetect: \u001b[0mweights=['plant_256.pt'], source=data/test_img/Cham kkot (Flower)/, data=data/plant.yaml, imgsz=[512, 512], conf_thres=0.3, iou_thres=0.45, max_det=1000, device=0, view_img=False, save_txt=False, save_conf=False, save_crop=False, nosave=False, classes=None, agnostic_nms=False, augment=False, visualize=False, update=False, project=runs\\detect, name=Cham kkot (Flower), exist_ok=False, line_thickness=3, hide_labels=False, hide_conf=False, half=False, dnn=False\n",
      "YOLOv5  v6.0-189-gaf00134 torch 1.9.0+cu111 CUDA:0 (NVIDIA GeForce RTX 3090, 24576MiB)\n",
      "\n",
      "Fusing layers... \n",
      "Model Summary: 213 layers, 7058671 parameters, 0 gradients\n",
      "image 1/10 C:\\Users\\user\\plant\\yolov5\\data\\test_img\\Cham kkot (Flower)\\1.jpg: 352x512 Done. (0.012s)\n",
      "image 2/10 C:\\Users\\user\\plant\\yolov5\\data\\test_img\\Cham kkot (Flower)\\10.jpg: 352x512 Done. (0.008s)\n",
      "image 3/10 C:\\Users\\user\\plant\\yolov5\\data\\test_img\\Cham kkot (Flower)\\2.jpg: 352x512 Done. (0.008s)\n",
      "image 4/10 C:\\Users\\user\\plant\\yolov5\\data\\test_img\\Cham kkot (Flower)\\3.jpg: 384x512 1 Cham kkot (Flower), Done. (0.012s)\n",
      "image 5/10 C:\\Users\\user\\plant\\yolov5\\data\\test_img\\Cham kkot (Flower)\\4.jpg: 352x512 1 Cham kkot (Flower), Done. (0.009s)\n",
      "image 6/10 C:\\Users\\user\\plant\\yolov5\\data\\test_img\\Cham kkot (Flower)\\5.jpg: 352x512 2 Cham kkot (Flower)s, 1 Han ra kkot hyang yu (Flower), Done. (0.008s)\n",
      "image 7/10 C:\\Users\\user\\plant\\yolov5\\data\\test_img\\Cham kkot (Flower)\\6.jpg: 352x512 1 Cham kkot (Flower), Done. (0.009s)\n",
      "image 8/10 C:\\Users\\user\\plant\\yolov5\\data\\test_img\\Cham kkot (Flower)\\7.jpg: 352x512 1 Cham kkot (Flower), Done. (0.008s)\n",
      "image 9/10 C:\\Users\\user\\plant\\yolov5\\data\\test_img\\Cham kkot (Flower)\\8.jpg: 352x512 Done. (0.008s)\n",
      "image 10/10 C:\\Users\\user\\plant\\yolov5\\data\\test_img\\Cham kkot (Flower)\\9.jpg: 352x512 1 Cham kkot (Flower), Done. (0.008s)\n",
      "Speed: 0.3ms pre-process, 9.0ms inference, 1.0ms NMS per image at shape (1, 3, 512, 512)\n",
      "Results saved to \u001b[1mruns\\detect\\Cham kkot (Flower)\u001b[0m\n"
     ]
    },
    {
     "name": "stdout",
     "output_type": "stream",
     "text": [
      "\u001b[31m\u001b[1mrequirements:\u001b[0m opencv-python>=4.1.2 not found and is required by YOLOv5, attempting auto-update...\n",
      "\u001b[31m\u001b[1mrequirements:\u001b[0m 'pip install opencv-python>=4.1.2' skipped (offline)\n",
      "Sucess detection:Cham sik (Leaf-F)\n"
     ]
    },
    {
     "name": "stderr",
     "output_type": "stream",
     "text": [
      "\u001b[34m\u001b[1mdetect: \u001b[0mweights=['plant_256.pt'], source=data/test_img/Cham sik (Leaf-F)/, data=data/plant.yaml, imgsz=[512, 512], conf_thres=0.3, iou_thres=0.45, max_det=1000, device=0, view_img=False, save_txt=False, save_conf=False, save_crop=False, nosave=False, classes=None, agnostic_nms=False, augment=False, visualize=False, update=False, project=runs\\detect, name=Cham sik (Leaf-F), exist_ok=False, line_thickness=3, hide_labels=False, hide_conf=False, half=False, dnn=False\n",
      "YOLOv5  v6.0-189-gaf00134 torch 1.9.0+cu111 CUDA:0 (NVIDIA GeForce RTX 3090, 24576MiB)\n",
      "\n",
      "Fusing layers... \n",
      "Model Summary: 213 layers, 7058671 parameters, 0 gradients\n",
      "image 1/10 C:\\Users\\user\\plant\\yolov5\\data\\test_img\\Cham sik (Leaf-F)\\1.jpg: 512x352 Done. (0.010s)\n",
      "image 2/10 C:\\Users\\user\\plant\\yolov5\\data\\test_img\\Cham sik (Leaf-F)\\10.jpg: 352x512 Done. (0.013s)\n",
      "image 3/10 C:\\Users\\user\\plant\\yolov5\\data\\test_img\\Cham sik (Leaf-F)\\2.jpg: 512x352 Done. (0.008s)\n",
      "image 4/10 C:\\Users\\user\\plant\\yolov5\\data\\test_img\\Cham sik (Leaf-F)\\3.jpg: 352x512 Done. (0.009s)\n",
      "image 5/10 C:\\Users\\user\\plant\\yolov5\\data\\test_img\\Cham sik (Leaf-F)\\4.jpg: 352x512 Done. (0.008s)\n",
      "image 6/10 C:\\Users\\user\\plant\\yolov5\\data\\test_img\\Cham sik (Leaf-F)\\5.jpg: 352x512 Done. (0.008s)\n",
      "image 7/10 C:\\Users\\user\\plant\\yolov5\\data\\test_img\\Cham sik (Leaf-F)\\6.jpg: 352x512 Done. (0.008s)\n",
      "image 8/10 C:\\Users\\user\\plant\\yolov5\\data\\test_img\\Cham sik (Leaf-F)\\7.jpg: 384x512 1 Cham kkot (Flower), Done. (0.011s)\n",
      "image 9/10 C:\\Users\\user\\plant\\yolov5\\data\\test_img\\Cham sik (Leaf-F)\\8.jpg: 384x512 Done. (0.008s)\n",
      "image 10/10 C:\\Users\\user\\plant\\yolov5\\data\\test_img\\Cham sik (Leaf-F)\\9.jpg: 512x352 Done. (0.008s)\n",
      "Speed: 0.5ms pre-process, 9.1ms inference, 0.5ms NMS per image at shape (1, 3, 512, 512)\n",
      "Results saved to \u001b[1mruns\\detect\\Cham sik (Leaf-F)\u001b[0m\n"
     ]
    },
    {
     "name": "stdout",
     "output_type": "stream",
     "text": [
      "\u001b[31m\u001b[1mrequirements:\u001b[0m opencv-python>=4.1.2 not found and is required by YOLOv5, attempting auto-update...\n",
      "\u001b[31m\u001b[1mrequirements:\u001b[0m 'pip install opencv-python>=4.1.2' skipped (offline)\n",
      "Sucess detection:Don (Fruit)\n"
     ]
    },
    {
     "name": "stderr",
     "output_type": "stream",
     "text": [
      "\u001b[34m\u001b[1mdetect: \u001b[0mweights=['plant_256.pt'], source=data/test_img/Don (Fruit)/, data=data/plant.yaml, imgsz=[512, 512], conf_thres=0.3, iou_thres=0.45, max_det=1000, device=0, view_img=False, save_txt=False, save_conf=False, save_crop=False, nosave=False, classes=None, agnostic_nms=False, augment=False, visualize=False, update=False, project=runs\\detect, name=Don (Fruit), exist_ok=False, line_thickness=3, hide_labels=False, hide_conf=False, half=False, dnn=False\n",
      "YOLOv5  v6.0-189-gaf00134 torch 1.9.0+cu111 CUDA:0 (NVIDIA GeForce RTX 3090, 24576MiB)\n",
      "\n",
      "Fusing layers... \n",
      "Model Summary: 213 layers, 7058671 parameters, 0 gradients\n",
      "image 1/10 C:\\Users\\user\\plant\\yolov5\\data\\test_img\\Don (Fruit)\\1.jpg: 352x512 Done. (0.012s)\n",
      "image 2/10 C:\\Users\\user\\plant\\yolov5\\data\\test_img\\Don (Fruit)\\10.jpg: 352x512 Done. (0.008s)\n",
      "image 3/10 C:\\Users\\user\\plant\\yolov5\\data\\test_img\\Don (Fruit)\\2.jpg: 352x512 Done. (0.008s)\n",
      "image 4/10 C:\\Users\\user\\plant\\yolov5\\data\\test_img\\Don (Fruit)\\3.jpg: 352x512 1 Hwang geun (Flower), Done. (0.008s)\n",
      "image 5/10 C:\\Users\\user\\plant\\yolov5\\data\\test_img\\Don (Fruit)\\4.jpg: 352x512 1 Kkwang kkwang (Fruit), Done. (0.010s)\n",
      "image 6/10 C:\\Users\\user\\plant\\yolov5\\data\\test_img\\Don (Fruit)\\5.jpg: 352x512 Done. (0.009s)\n",
      "image 7/10 C:\\Users\\user\\plant\\yolov5\\data\\test_img\\Don (Fruit)\\6.jpg: 352x512 2 Don (Fruit)s, Done. (0.008s)\n",
      "image 8/10 C:\\Users\\user\\plant\\yolov5\\data\\test_img\\Don (Fruit)\\7.jpg: 352x512 Done. (0.008s)\n",
      "image 9/10 C:\\Users\\user\\plant\\yolov5\\data\\test_img\\Don (Fruit)\\8.jpg: 352x512 Done. (0.009s)\n",
      "image 10/10 C:\\Users\\user\\plant\\yolov5\\data\\test_img\\Don (Fruit)\\9.jpg: 352x512 Done. (0.010s)\n",
      "Speed: 0.5ms pre-process, 9.0ms inference, 0.7ms NMS per image at shape (1, 3, 512, 512)\n",
      "Results saved to \u001b[1mruns\\detect\\Don (Fruit)\u001b[0m\n"
     ]
    },
    {
     "name": "stdout",
     "output_type": "stream",
     "text": [
      "\u001b[31m\u001b[1mrequirements:\u001b[0m opencv-python>=4.1.2 not found and is required by YOLOv5, attempting auto-update...\n",
      "\u001b[31m\u001b[1mrequirements:\u001b[0m 'pip install opencv-python>=4.1.2' skipped (offline)\n",
      "Sucess detection:Gu sil jat bam (Fruit)\n"
     ]
    },
    {
     "name": "stderr",
     "output_type": "stream",
     "text": [
      "\u001b[34m\u001b[1mdetect: \u001b[0mweights=['plant_256.pt'], source=data/test_img/Gu sil jat bam (Fruit)/, data=data/plant.yaml, imgsz=[512, 512], conf_thres=0.3, iou_thres=0.45, max_det=1000, device=0, view_img=False, save_txt=False, save_conf=False, save_crop=False, nosave=False, classes=None, agnostic_nms=False, augment=False, visualize=False, update=False, project=runs\\detect, name=Gu sil jat bam (Fruit), exist_ok=False, line_thickness=3, hide_labels=False, hide_conf=False, half=False, dnn=False\n",
      "YOLOv5  v6.0-189-gaf00134 torch 1.9.0+cu111 CUDA:0 (NVIDIA GeForce RTX 3090, 24576MiB)\n",
      "\n",
      "Fusing layers... \n",
      "Model Summary: 213 layers, 7058671 parameters, 0 gradients\n",
      "image 1/10 C:\\Users\\user\\plant\\yolov5\\data\\test_img\\Gu sil jat bam (Fruit)\\1.jpg: 352x512 Done. (0.012s)\n",
      "image 2/10 C:\\Users\\user\\plant\\yolov5\\data\\test_img\\Gu sil jat bam (Fruit)\\10.jpg: 384x512 Done. (0.011s)\n",
      "image 3/10 C:\\Users\\user\\plant\\yolov5\\data\\test_img\\Gu sil jat bam (Fruit)\\2.jpg: 352x512 Done. (0.009s)\n",
      "image 4/10 C:\\Users\\user\\plant\\yolov5\\data\\test_img\\Gu sil jat bam (Fruit)\\3.jpg: 352x512 Done. (0.009s)\n",
      "image 5/10 C:\\Users\\user\\plant\\yolov5\\data\\test_img\\Gu sil jat bam (Fruit)\\4.jpg: 352x512 1 Hwang geun (Flower), Done. (0.008s)\n",
      "image 6/10 C:\\Users\\user\\plant\\yolov5\\data\\test_img\\Gu sil jat bam (Fruit)\\5.jpg: 352x512 Done. (0.008s)\n",
      "image 7/10 C:\\Users\\user\\plant\\yolov5\\data\\test_img\\Gu sil jat bam (Fruit)\\6.jpg: 384x512 1 Sun bi gi (Fruit), Done. (0.009s)\n",
      "image 8/10 C:\\Users\\user\\plant\\yolov5\\data\\test_img\\Gu sil jat bam (Fruit)\\7.jpg: 384x512 1 Hwang geun (Flower), Done. (0.008s)\n",
      "image 9/10 C:\\Users\\user\\plant\\yolov5\\data\\test_img\\Gu sil jat bam (Fruit)\\8.jpg: 384x512 Done. (0.008s)\n",
      "image 10/10 C:\\Users\\user\\plant\\yolov5\\data\\test_img\\Gu sil jat bam (Fruit)\\9.jpg: 384x512 Done. (0.008s)\n",
      "Speed: 0.5ms pre-process, 9.0ms inference, 0.6ms NMS per image at shape (1, 3, 512, 512)\n",
      "Results saved to \u001b[1mruns\\detect\\Gu sil jat bam (Fruit)\u001b[0m\n"
     ]
    },
    {
     "name": "stdout",
     "output_type": "stream",
     "text": [
      "\u001b[31m\u001b[1mrequirements:\u001b[0m opencv-python>=4.1.2 not found and is required by YOLOv5, attempting auto-update...\n",
      "\u001b[31m\u001b[1mrequirements:\u001b[0m 'pip install opencv-python>=4.1.2' skipped (offline)\n",
      "Sucess detection:Hae guk (Flower)\n"
     ]
    },
    {
     "name": "stderr",
     "output_type": "stream",
     "text": [
      "\u001b[34m\u001b[1mdetect: \u001b[0mweights=['plant_256.pt'], source=data/test_img/Hae guk (Flower)/, data=data/plant.yaml, imgsz=[512, 512], conf_thres=0.3, iou_thres=0.45, max_det=1000, device=0, view_img=False, save_txt=False, save_conf=False, save_crop=False, nosave=False, classes=None, agnostic_nms=False, augment=False, visualize=False, update=False, project=runs\\detect, name=Hae guk (Flower), exist_ok=False, line_thickness=3, hide_labels=False, hide_conf=False, half=False, dnn=False\n",
      "YOLOv5  v6.0-189-gaf00134 torch 1.9.0+cu111 CUDA:0 (NVIDIA GeForce RTX 3090, 24576MiB)\n",
      "\n",
      "Fusing layers... \n",
      "Model Summary: 213 layers, 7058671 parameters, 0 gradients\n",
      "image 1/10 C:\\Users\\user\\plant\\yolov5\\data\\test_img\\Hae guk (Flower)\\1.jpg: 384x512 2 Hae guk (Flower)s, Done. (0.012s)\n",
      "image 2/10 C:\\Users\\user\\plant\\yolov5\\data\\test_img\\Hae guk (Flower)\\10.jpg: 256x512 1 Hae guk (Flower), Done. (0.012s)\n",
      "image 3/10 C:\\Users\\user\\plant\\yolov5\\data\\test_img\\Hae guk (Flower)\\2.jpg: 352x512 1 Han ra kkot hyang yu (Flower), Done. (0.012s)\n",
      "image 4/10 C:\\Users\\user\\plant\\yolov5\\data\\test_img\\Hae guk (Flower)\\3.jpg: 288x512 3 Hae guk (Flower)s, Done. (0.012s)\n",
      "image 5/10 C:\\Users\\user\\plant\\yolov5\\data\\test_img\\Hae guk (Flower)\\4.jpg: 512x384 Done. (0.010s)\n",
      "image 6/10 C:\\Users\\user\\plant\\yolov5\\data\\test_img\\Hae guk (Flower)\\5.jpg: 512x384 Done. (0.007s)\n",
      "image 7/10 C:\\Users\\user\\plant\\yolov5\\data\\test_img\\Hae guk (Flower)\\6.jpg: 384x512 Done. (0.008s)\n",
      "image 8/10 C:\\Users\\user\\plant\\yolov5\\data\\test_img\\Hae guk (Flower)\\7.jpg: 352x512 5 Hae guk (Flower)s, Done. (0.009s)\n",
      "image 9/10 C:\\Users\\user\\plant\\yolov5\\data\\test_img\\Hae guk (Flower)\\8.jpg: 384x512 Done. (0.008s)\n",
      "image 10/10 C:\\Users\\user\\plant\\yolov5\\data\\test_img\\Hae guk (Flower)\\9.jpg: 288x512 Done. (0.009s)\n",
      "Speed: 0.5ms pre-process, 9.9ms inference, 1.3ms NMS per image at shape (1, 3, 512, 512)\n",
      "Results saved to \u001b[1mruns\\detect\\Hae guk (Flower)\u001b[0m\n"
     ]
    },
    {
     "name": "stdout",
     "output_type": "stream",
     "text": [
      "\u001b[31m\u001b[1mrequirements:\u001b[0m opencv-python>=4.1.2 not found and is required by YOLOv5, attempting auto-update...\n",
      "\u001b[31m\u001b[1mrequirements:\u001b[0m 'pip install opencv-python>=4.1.2' skipped (offline)\n",
      "Sucess detection:Han ra kkot hyang yu (Flower)\n"
     ]
    },
    {
     "name": "stderr",
     "output_type": "stream",
     "text": [
      "\u001b[34m\u001b[1mdetect: \u001b[0mweights=['plant_256.pt'], source=data/test_img/Han ra kkot hyang yu (Flower)/, data=data/plant.yaml, imgsz=[512, 512], conf_thres=0.3, iou_thres=0.45, max_det=1000, device=0, view_img=False, save_txt=False, save_conf=False, save_crop=False, nosave=False, classes=None, agnostic_nms=False, augment=False, visualize=False, update=False, project=runs\\detect, name=Han ra kkot hyang yu (Flower), exist_ok=False, line_thickness=3, hide_labels=False, hide_conf=False, half=False, dnn=False\n",
      "YOLOv5  v6.0-189-gaf00134 torch 1.9.0+cu111 CUDA:0 (NVIDIA GeForce RTX 3090, 24576MiB)\n",
      "\n",
      "Fusing layers... \n",
      "Model Summary: 213 layers, 7058671 parameters, 0 gradients\n",
      "image 1/10 C:\\Users\\user\\plant\\yolov5\\data\\test_img\\Han ra kkot hyang yu (Flower)\\1.jpg: 512x352 1 Han ra kkot hyang yu (Flower), Done. (0.014s)\n",
      "image 2/10 C:\\Users\\user\\plant\\yolov5\\data\\test_img\\Han ra kkot hyang yu (Flower)\\10.jpg: 352x512 Done. (0.013s)\n",
      "image 3/10 C:\\Users\\user\\plant\\yolov5\\data\\test_img\\Han ra kkot hyang yu (Flower)\\2.jpg: 512x352 1 Han ra kkot hyang yu (Flower), Done. (0.008s)\n",
      "image 4/10 C:\\Users\\user\\plant\\yolov5\\data\\test_img\\Han ra kkot hyang yu (Flower)\\3.jpg: 416x512 Done. (0.014s)\n",
      "image 5/10 C:\\Users\\user\\plant\\yolov5\\data\\test_img\\Han ra kkot hyang yu (Flower)\\4.jpg: 384x512 Done. (0.015s)\n",
      "image 6/10 C:\\Users\\user\\plant\\yolov5\\data\\test_img\\Han ra kkot hyang yu (Flower)\\5.jpg: 384x512 1 Han ra kkot hyang yu (Flower), Done. (0.008s)\n",
      "image 7/10 C:\\Users\\user\\plant\\yolov5\\data\\test_img\\Han ra kkot hyang yu (Flower)\\6.jpg: 384x512 1 Han ra kkot hyang yu (Flower), Done. (0.008s)\n",
      "image 8/10 C:\\Users\\user\\plant\\yolov5\\data\\test_img\\Han ra kkot hyang yu (Flower)\\7.jpg: 352x512 Done. (0.009s)\n",
      "image 9/10 C:\\Users\\user\\plant\\yolov5\\data\\test_img\\Han ra kkot hyang yu (Flower)\\8.jpg: 352x512 Done. (0.008s)\n",
      "image 10/10 C:\\Users\\user\\plant\\yolov5\\data\\test_img\\Han ra kkot hyang yu (Flower)\\9.jpg: 512x352 1 Han ra kkot hyang yu (Flower), Done. (0.008s)\n",
      "Speed: 0.3ms pre-process, 10.5ms inference, 0.8ms NMS per image at shape (1, 3, 512, 512)\n",
      "Results saved to \u001b[1mruns\\detect\\Han ra kkot hyang yu (Flower)\u001b[0m\n"
     ]
    },
    {
     "name": "stdout",
     "output_type": "stream",
     "text": [
      "\u001b[31m\u001b[1mrequirements:\u001b[0m opencv-python>=4.1.2 not found and is required by YOLOv5, attempting auto-update...\n",
      "\u001b[31m\u001b[1mrequirements:\u001b[0m 'pip install opencv-python>=4.1.2' skipped (offline)\n",
      "Sucess detection:Hwang geun (Flower)\n"
     ]
    },
    {
     "name": "stderr",
     "output_type": "stream",
     "text": [
      "\u001b[34m\u001b[1mdetect: \u001b[0mweights=['plant_256.pt'], source=data/test_img/Hwang geun (Flower)/, data=data/plant.yaml, imgsz=[512, 512], conf_thres=0.3, iou_thres=0.45, max_det=1000, device=0, view_img=False, save_txt=False, save_conf=False, save_crop=False, nosave=False, classes=None, agnostic_nms=False, augment=False, visualize=False, update=False, project=runs\\detect, name=Hwang geun (Flower), exist_ok=False, line_thickness=3, hide_labels=False, hide_conf=False, half=False, dnn=False\n",
      "YOLOv5  v6.0-189-gaf00134 torch 1.9.0+cu111 CUDA:0 (NVIDIA GeForce RTX 3090, 24576MiB)\n",
      "\n",
      "Fusing layers... \n",
      "Model Summary: 213 layers, 7058671 parameters, 0 gradients\n",
      "image 1/10 C:\\Users\\user\\plant\\yolov5\\data\\test_img\\Hwang geun (Flower)\\1.jpg: 352x512 3 Hwang geun (Flower)s, Done. (0.012s)\n",
      "image 2/10 C:\\Users\\user\\plant\\yolov5\\data\\test_img\\Hwang geun (Flower)\\10.jpg: 384x512 2 Hwang geun (Flower)s, Done. (0.012s)\n",
      "image 3/10 C:\\Users\\user\\plant\\yolov5\\data\\test_img\\Hwang geun (Flower)\\2.jpg: 352x512 3 Hwang geun (Flower)s, Done. (0.008s)\n",
      "image 4/10 C:\\Users\\user\\plant\\yolov5\\data\\test_img\\Hwang geun (Flower)\\3.jpg: 352x512 1 Hwang geun (Flower), Done. (0.008s)\n",
      "image 5/10 C:\\Users\\user\\plant\\yolov5\\data\\test_img\\Hwang geun (Flower)\\4.jpg: 352x512 1 Hwang geun (Flower), Done. (0.009s)\n",
      "image 6/10 C:\\Users\\user\\plant\\yolov5\\data\\test_img\\Hwang geun (Flower)\\5.jpg: 352x512 1 Hwang geun (Flower), Done. (0.009s)\n",
      "image 7/10 C:\\Users\\user\\plant\\yolov5\\data\\test_img\\Hwang geun (Flower)\\6.jpg: 352x512 4 Hwang geun (Flower)s, Done. (0.008s)\n",
      "image 8/10 C:\\Users\\user\\plant\\yolov5\\data\\test_img\\Hwang geun (Flower)\\7.jpg: 384x512 1 Hwang geun (Flower), Done. (0.009s)\n",
      "image 9/10 C:\\Users\\user\\plant\\yolov5\\data\\test_img\\Hwang geun (Flower)\\8.jpg: 256x512 Done. (0.012s)\n",
      "image 10/10 C:\\Users\\user\\plant\\yolov5\\data\\test_img\\Hwang geun (Flower)\\9.jpg: 256x512 Done. (0.008s)\n",
      "Speed: 0.3ms pre-process, 9.5ms inference, 1.2ms NMS per image at shape (1, 3, 512, 512)\n",
      "Results saved to \u001b[1mruns\\detect\\Hwang geun (Flower)\u001b[0m\n"
     ]
    },
    {
     "name": "stdout",
     "output_type": "stream",
     "text": [
      "\u001b[31m\u001b[1mrequirements:\u001b[0m opencv-python>=4.1.2 not found and is required by YOLOv5, attempting auto-update...\n",
      "\u001b[31m\u001b[1mrequirements:\u001b[0m 'pip install opencv-python>=4.1.2' skipped (offline)\n",
      "Sucess detection:Hwang geun (Fruit)\n"
     ]
    },
    {
     "name": "stderr",
     "output_type": "stream",
     "text": [
      "\u001b[34m\u001b[1mdetect: \u001b[0mweights=['plant_256.pt'], source=data/test_img/Hwang geun (Fruit)/, data=data/plant.yaml, imgsz=[512, 512], conf_thres=0.3, iou_thres=0.45, max_det=1000, device=0, view_img=False, save_txt=False, save_conf=False, save_crop=False, nosave=False, classes=None, agnostic_nms=False, augment=False, visualize=False, update=False, project=runs\\detect, name=Hwang geun (Fruit), exist_ok=False, line_thickness=3, hide_labels=False, hide_conf=False, half=False, dnn=False\n",
      "YOLOv5  v6.0-189-gaf00134 torch 1.9.0+cu111 CUDA:0 (NVIDIA GeForce RTX 3090, 24576MiB)\n",
      "\n",
      "Fusing layers... \n",
      "Model Summary: 213 layers, 7058671 parameters, 0 gradients\n",
      "image 1/10 C:\\Users\\user\\plant\\yolov5\\data\\test_img\\Hwang geun (Fruit)\\1.jpg: 384x512 1 Hwang geun (Fruit), Done. (0.012s)\n",
      "image 2/10 C:\\Users\\user\\plant\\yolov5\\data\\test_img\\Hwang geun (Fruit)\\10.jpg: 384x512 Done. (0.008s)\n",
      "image 3/10 C:\\Users\\user\\plant\\yolov5\\data\\test_img\\Hwang geun (Fruit)\\2.jpg: 512x416 1 Hwang geun (Fruit), Done. (0.011s)\n",
      "image 4/10 C:\\Users\\user\\plant\\yolov5\\data\\test_img\\Hwang geun (Fruit)\\3.jpg: 512x416 1 Hwang geun (Fruit), Done. (0.007s)\n",
      "image 5/10 C:\\Users\\user\\plant\\yolov5\\data\\test_img\\Hwang geun (Fruit)\\4.jpg: 352x512 Done. (0.011s)\n",
      "image 6/10 C:\\Users\\user\\plant\\yolov5\\data\\test_img\\Hwang geun (Fruit)\\5.jpg: 352x512 Done. (0.008s)\n",
      "image 7/10 C:\\Users\\user\\plant\\yolov5\\data\\test_img\\Hwang geun (Fruit)\\6.jpg: 384x512 1 Hwang geun (Fruit), Done. (0.009s)\n",
      "image 8/10 C:\\Users\\user\\plant\\yolov5\\data\\test_img\\Hwang geun (Fruit)\\7.jpg: 352x512 1 Hwang geun (Fruit), Done. (0.008s)\n",
      "image 9/10 C:\\Users\\user\\plant\\yolov5\\data\\test_img\\Hwang geun (Fruit)\\8.jpg: 288x512 1 Hwang geun (Flower), Done. (0.012s)\n",
      "image 10/10 C:\\Users\\user\\plant\\yolov5\\data\\test_img\\Hwang geun (Fruit)\\9.jpg: 480x512 Done. (0.011s)\n",
      "Speed: 0.3ms pre-process, 9.7ms inference, 0.9ms NMS per image at shape (1, 3, 512, 512)\n",
      "Results saved to \u001b[1mruns\\detect\\Hwang geun (Fruit)\u001b[0m\n"
     ]
    },
    {
     "name": "stdout",
     "output_type": "stream",
     "text": [
      "\u001b[31m\u001b[1mrequirements:\u001b[0m opencv-python>=4.1.2 not found and is required by YOLOv5, attempting auto-update...Sucess detection:Jop eun ip cheon seon gwa (Fruit)\n"
     ]
    },
    {
     "name": "stderr",
     "output_type": "stream",
     "text": [
      "\u001b[34m\u001b[1mdetect: \u001b[0mweights=['plant_256.pt'], source=data/test_img/Jop eun ip cheon seon gwa (Fruit)/, data=data/plant.yaml, imgsz=[512, 512], conf_thres=0.3, iou_thres=0.45, max_det=1000, device=0, view_img=False, save_txt=False, save_conf=False, save_crop=False, nosave=False, classes=None, agnostic_nms=False, augment=False, visualize=False, update=False, project=runs\\detect, name=Jop eun ip cheon seon gwa (Fruit), exist_ok=False, line_thickness=3, hide_labels=False, hide_conf=False, half=False, dnn=False\n",
      "YOLOv5  v6.0-189-gaf00134 torch 1.9.0+cu111 CUDA:0 (NVIDIA GeForce RTX 3090, 24576MiB)\n",
      "\n",
      "Fusing layers... \n",
      "Model Summary: 213 layers, 7058671 parameters, 0 gradients\n",
      "image 1/10 C:\\Users\\user\\plant\\yolov5\\data\\test_img\\Jop eun ip cheon seon gwa (Fruit)\\1.jpg: 384x512 1 Jop eun ip cheon seon gwa (Fruit), Done. (0.012s)\n",
      "image 2/10 C:\\Users\\user\\plant\\yolov5\\data\\test_img\\Jop eun ip cheon seon gwa (Fruit)\\10.jpg: 352x512 1 Jop eun ip cheon seon gwa (Fruit), 2 Kkwang kkwang (Fruit)s, Done. (0.011s)\n",
      "image 3/10 C:\\Users\\user\\plant\\yolov5\\data\\test_img\\Jop eun ip cheon seon gwa (Fruit)\\2.jpg: 384x512 1 Jop eun ip cheon seon gwa (Fruit), 1 Kkwang kkwang (Fruit), Done. (0.008s)\n",
      "image 4/10 C:\\Users\\user\\plant\\yolov5\\data\\test_img\\Jop eun ip cheon seon gwa (Fruit)\\3.jpg: 384x512 Done. (0.008s)\n",
      "image 5/10 C:\\Users\\user\\plant\\yolov5\\data\\test_img\\Jop eun ip cheon seon gwa (Fruit)\\4.jpg: 384x512 1 Kkwang kkwang (Fruit), Done. (0.007s)\n",
      "image 6/10 C:\\Users\\user\\plant\\yolov5\\data\\test_img\\Jop eun ip cheon seon gwa (Fruit)\\5.jpg: 384x512 1 Cham sik (Leaf-F), Done. (0.008s)\n",
      "image 7/10 C:\\Users\\user\\plant\\yolov5\\data\\test_img\\Jop eun ip cheon seon gwa (Fruit)\\6.jpg: 352x512 1 Kkwang kkwang (Fruit), Done. (0.009s)\n",
      "image 8/10 C:\\Users\\user\\plant\\yolov5\\data\\test_img\\Jop eun ip cheon seon gwa (Fruit)\\7.jpg: 352x512 1 Sun bi gi (Fruit), Done. (0.008s)\n",
      "image 9/10 C:\\Users\\user\\plant\\yolov5\\data\\test_img\\Jop eun ip cheon seon gwa (Fruit)\\8.jpg: 352x512 1 Kkwang kkwang (Fruit), Done. (0.008s)\n",
      "image 10/10 C:\\Users\\user\\plant\\yolov5\\data\\test_img\\Jop eun ip cheon seon gwa (Fruit)\\9.jpg: 352x512 1 Hwang geun (Flower), Done. (0.008s)\n",
      "Speed: 0.3ms pre-process, 8.7ms inference, 1.2ms NMS per image at shape (1, 3, 512, 512)\n",
      "Results saved to \u001b[1mruns\\detect\\Jop eun ip cheon seon gwa (Fruit)\u001b[0m\n"
     ]
    },
    {
     "name": "stdout",
     "output_type": "stream",
     "text": [
      "\n",
      "\u001b[31m\u001b[1mrequirements:\u001b[0m 'pip install opencv-python>=4.1.2' skipped (offline)\n",
      "\u001b[31m\u001b[1mrequirements:\u001b[0m opencv-python>=4.1.2 not found and is required by YOLOv5, attempting auto-update...\n",
      "\u001b[31m\u001b[1mrequirements:\u001b[0m 'pip install opencv-python>=4.1.2' skipped (offline)\n",
      "Sucess detection:Keun jo rong (Flower)\n"
     ]
    },
    {
     "name": "stderr",
     "output_type": "stream",
     "text": [
      "\u001b[34m\u001b[1mdetect: \u001b[0mweights=['plant_256.pt'], source=data/test_img/Keun jo rong (Flower)/, data=data/plant.yaml, imgsz=[512, 512], conf_thres=0.3, iou_thres=0.45, max_det=1000, device=0, view_img=False, save_txt=False, save_conf=False, save_crop=False, nosave=False, classes=None, agnostic_nms=False, augment=False, visualize=False, update=False, project=runs\\detect, name=Keun jo rong (Flower), exist_ok=False, line_thickness=3, hide_labels=False, hide_conf=False, half=False, dnn=False\n",
      "YOLOv5  v6.0-189-gaf00134 torch 1.9.0+cu111 CUDA:0 (NVIDIA GeForce RTX 3090, 24576MiB)\n",
      "\n",
      "Fusing layers... \n",
      "Model Summary: 213 layers, 7058671 parameters, 0 gradients\n",
      "image 1/10 C:\\Users\\user\\plant\\yolov5\\data\\test_img\\Keun jo rong (Flower)\\1.jpg: 416x512 Done. (0.011s)\n",
      "image 2/10 C:\\Users\\user\\plant\\yolov5\\data\\test_img\\Keun jo rong (Flower)\\10.jpg: 384x512 Done. (0.012s)\n",
      "image 3/10 C:\\Users\\user\\plant\\yolov5\\data\\test_img\\Keun jo rong (Flower)\\2.jpg: 416x512 Done. (0.009s)\n",
      "image 4/10 C:\\Users\\user\\plant\\yolov5\\data\\test_img\\Keun jo rong (Flower)\\3.jpg: 416x512 1 Han ra kkot hyang yu (Flower), Done. (0.007s)\n",
      "image 5/10 C:\\Users\\user\\plant\\yolov5\\data\\test_img\\Keun jo rong (Flower)\\4.jpg: 416x512 Done. (0.010s)\n",
      "image 6/10 C:\\Users\\user\\plant\\yolov5\\data\\test_img\\Keun jo rong (Flower)\\5.jpg: 416x512 1 Keun jo rong (Flower), Done. (0.008s)\n",
      "image 7/10 C:\\Users\\user\\plant\\yolov5\\data\\test_img\\Keun jo rong (Flower)\\6.jpg: 416x512 1 Keun jo rong (Flower), Done. (0.009s)\n",
      "image 8/10 C:\\Users\\user\\plant\\yolov5\\data\\test_img\\Keun jo rong (Flower)\\7.jpg: 416x512 Done. (0.008s)\n",
      "image 9/10 C:\\Users\\user\\plant\\yolov5\\data\\test_img\\Keun jo rong (Flower)\\8.jpg: 352x512 Done. (0.012s)\n",
      "image 10/10 C:\\Users\\user\\plant\\yolov5\\data\\test_img\\Keun jo rong (Flower)\\9.jpg: 352x512 Done. (0.008s)\n",
      "Speed: 0.4ms pre-process, 9.4ms inference, 0.7ms NMS per image at shape (1, 3, 512, 512)\n",
      "Results saved to \u001b[1mruns\\detect\\Keun jo rong (Flower)\u001b[0m\n"
     ]
    },
    {
     "name": "stdout",
     "output_type": "stream",
     "text": [
      "\u001b[31m\u001b[1mrequirements:\u001b[0m opencv-python>=4.1.2 not found and is required by YOLOv5, attempting auto-update...\n",
      "\u001b[31m\u001b[1mrequirements:\u001b[0m 'pip install opencv-python>=4.1.2' skipped (offline)\n",
      "Sucess detection:Kka ma gwi jjok (Fruit)\n"
     ]
    },
    {
     "name": "stderr",
     "output_type": "stream",
     "text": [
      "\u001b[34m\u001b[1mdetect: \u001b[0mweights=['plant_256.pt'], source=data/test_img/Kka ma gwi jjok (Fruit)/, data=data/plant.yaml, imgsz=[512, 512], conf_thres=0.3, iou_thres=0.45, max_det=1000, device=0, view_img=False, save_txt=False, save_conf=False, save_crop=False, nosave=False, classes=None, agnostic_nms=False, augment=False, visualize=False, update=False, project=runs\\detect, name=Kka ma gwi jjok (Fruit), exist_ok=False, line_thickness=3, hide_labels=False, hide_conf=False, half=False, dnn=False\n",
      "YOLOv5  v6.0-189-gaf00134 torch 1.9.0+cu111 CUDA:0 (NVIDIA GeForce RTX 3090, 24576MiB)\n",
      "\n",
      "Fusing layers... \n",
      "Model Summary: 213 layers, 7058671 parameters, 0 gradients\n",
      "image 1/10 C:\\Users\\user\\plant\\yolov5\\data\\test_img\\Kka ma gwi jjok (Fruit)\\1.jpg: 288x512 Done. (0.012s)\n",
      "image 2/10 C:\\Users\\user\\plant\\yolov5\\data\\test_img\\Kka ma gwi jjok (Fruit)\\10.jpg: 352x512 Done. (0.012s)\n",
      "image 3/10 C:\\Users\\user\\plant\\yolov5\\data\\test_img\\Kka ma gwi jjok (Fruit)\\2.jpg: 352x512 Done. (0.007s)\n",
      "image 4/10 C:\\Users\\user\\plant\\yolov5\\data\\test_img\\Kka ma gwi jjok (Fruit)\\3.jpg: 352x512 Done. (0.008s)\n",
      "image 5/10 C:\\Users\\user\\plant\\yolov5\\data\\test_img\\Kka ma gwi jjok (Fruit)\\4.jpg: 288x512 Done. (0.008s)\n",
      "image 6/10 C:\\Users\\user\\plant\\yolov5\\data\\test_img\\Kka ma gwi jjok (Fruit)\\5.jpg: 416x512 Done. (0.011s)\n",
      "image 7/10 C:\\Users\\user\\plant\\yolov5\\data\\test_img\\Kka ma gwi jjok (Fruit)\\6.jpg: 416x512 Done. (0.008s)\n",
      "image 8/10 C:\\Users\\user\\plant\\yolov5\\data\\test_img\\Kka ma gwi jjok (Fruit)\\7.jpg: 384x512 1 Hwang geun (Fruit), Done. (0.012s)\n",
      "image 9/10 C:\\Users\\user\\plant\\yolov5\\data\\test_img\\Kka ma gwi jjok (Fruit)\\8.jpg: 384x512 1 Hwang geun (Flower), Done. (0.008s)\n",
      "image 10/10 C:\\Users\\user\\plant\\yolov5\\data\\test_img\\Kka ma gwi jjok (Fruit)\\9.jpg: 384x512 Done. (0.008s)\n",
      "Speed: 0.4ms pre-process, 9.4ms inference, 0.7ms NMS per image at shape (1, 3, 512, 512)\n",
      "Results saved to \u001b[1mruns\\detect\\Kka ma gwi jjok (Fruit)\u001b[0m\n"
     ]
    },
    {
     "name": "stdout",
     "output_type": "stream",
     "text": [
      "\u001b[31m\u001b[1mrequirements:\u001b[0m opencv-python>=4.1.2 not found and is required by YOLOv5, attempting auto-update...\n",
      "\u001b[31m\u001b[1mrequirements:\u001b[0m 'pip install opencv-python>=4.1.2' skipped (offline)\n",
      "Sucess detection:Kkwang kkwang (Fruit)\n"
     ]
    },
    {
     "name": "stderr",
     "output_type": "stream",
     "text": [
      "\u001b[34m\u001b[1mdetect: \u001b[0mweights=['plant_256.pt'], source=data/test_img/Kkwang kkwang (Fruit)/, data=data/plant.yaml, imgsz=[512, 512], conf_thres=0.3, iou_thres=0.45, max_det=1000, device=0, view_img=False, save_txt=False, save_conf=False, save_crop=False, nosave=False, classes=None, agnostic_nms=False, augment=False, visualize=False, update=False, project=runs\\detect, name=Kkwang kkwang (Fruit), exist_ok=False, line_thickness=3, hide_labels=False, hide_conf=False, half=False, dnn=False\n",
      "YOLOv5  v6.0-189-gaf00134 torch 1.9.0+cu111 CUDA:0 (NVIDIA GeForce RTX 3090, 24576MiB)\n",
      "\n",
      "Fusing layers... \n",
      "Model Summary: 213 layers, 7058671 parameters, 0 gradients\n",
      "image 1/10 C:\\Users\\user\\plant\\yolov5\\data\\test_img\\Kkwang kkwang (Fruit)\\1.jpg: 384x512 Done. (0.012s)\n",
      "image 2/10 C:\\Users\\user\\plant\\yolov5\\data\\test_img\\Kkwang kkwang (Fruit)\\10.jpg: 512x384 Done. (0.010s)\n",
      "image 3/10 C:\\Users\\user\\plant\\yolov5\\data\\test_img\\Kkwang kkwang (Fruit)\\2.jpg: 384x512 2 Kkwang kkwang (Fruit)s, Done. (0.008s)\n",
      "image 4/10 C:\\Users\\user\\plant\\yolov5\\data\\test_img\\Kkwang kkwang (Fruit)\\3.jpg: 352x512 Done. (0.011s)\n",
      "image 5/10 C:\\Users\\user\\plant\\yolov5\\data\\test_img\\Kkwang kkwang (Fruit)\\4.jpg: 352x512 Done. (0.008s)\n",
      "image 6/10 C:\\Users\\user\\plant\\yolov5\\data\\test_img\\Kkwang kkwang (Fruit)\\5.jpg: 352x512 Done. (0.008s)\n",
      "image 7/10 C:\\Users\\user\\plant\\yolov5\\data\\test_img\\Kkwang kkwang (Fruit)\\6.jpg: 352x512 Done. (0.008s)\n",
      "image 8/10 C:\\Users\\user\\plant\\yolov5\\data\\test_img\\Kkwang kkwang (Fruit)\\7.jpg: 352x512 Done. (0.008s)\n",
      "image 9/10 C:\\Users\\user\\plant\\yolov5\\data\\test_img\\Kkwang kkwang (Fruit)\\8.jpg: 352x512 Done. (0.009s)\n",
      "image 10/10 C:\\Users\\user\\plant\\yolov5\\data\\test_img\\Kkwang kkwang (Fruit)\\9.jpg: 352x512 1 Kkwang kkwang (Fruit), Done. (0.008s)\n",
      "Speed: 0.3ms pre-process, 9.0ms inference, 0.7ms NMS per image at shape (1, 3, 512, 512)\n",
      "Results saved to \u001b[1mruns\\detect\\Kkwang kkwang (Fruit)\u001b[0m\n"
     ]
    },
    {
     "name": "stdout",
     "output_type": "stream",
     "text": [
      "\u001b[31m\u001b[1mrequirements:\u001b[0m opencv-python>=4.1.2 not found and is required by YOLOv5, attempting auto-update...\n",
      "\u001b[31m\u001b[1mrequirements:\u001b[0m 'pip install opencv-python>=4.1.2' skipped (offline)\n",
      "Sucess detection:Me mil (Flower)\n"
     ]
    },
    {
     "name": "stderr",
     "output_type": "stream",
     "text": [
      "\u001b[34m\u001b[1mdetect: \u001b[0mweights=['plant_256.pt'], source=data/test_img/Me mil (Flower)/, data=data/plant.yaml, imgsz=[512, 512], conf_thres=0.3, iou_thres=0.45, max_det=1000, device=0, view_img=False, save_txt=False, save_conf=False, save_crop=False, nosave=False, classes=None, agnostic_nms=False, augment=False, visualize=False, update=False, project=runs\\detect, name=Me mil (Flower), exist_ok=False, line_thickness=3, hide_labels=False, hide_conf=False, half=False, dnn=False\n",
      "YOLOv5  v6.0-189-gaf00134 torch 1.9.0+cu111 CUDA:0 (NVIDIA GeForce RTX 3090, 24576MiB)\n",
      "\n",
      "Fusing layers... \n",
      "Model Summary: 213 layers, 7058671 parameters, 0 gradients\n",
      "image 1/10 C:\\Users\\user\\plant\\yolov5\\data\\test_img\\Me mil (Flower)\\1.jpg: 352x512 Done. (0.011s)\n",
      "image 2/10 C:\\Users\\user\\plant\\yolov5\\data\\test_img\\Me mil (Flower)\\10.jpg: 288x512 Done. (0.012s)\n",
      "image 3/10 C:\\Users\\user\\plant\\yolov5\\data\\test_img\\Me mil (Flower)\\2.jpg: 384x512 1 Me mil (Flower), Done. (0.011s)\n",
      "image 4/10 C:\\Users\\user\\plant\\yolov5\\data\\test_img\\Me mil (Flower)\\3.jpg: 384x512 1 Me mil (Flower), Done. (0.008s)\n",
      "image 5/10 C:\\Users\\user\\plant\\yolov5\\data\\test_img\\Me mil (Flower)\\4.jpg: 352x512 1 Me mil (Flower), Done. (0.008s)\n",
      "image 6/10 C:\\Users\\user\\plant\\yolov5\\data\\test_img\\Me mil (Flower)\\5.jpg: 352x512 1 Me mil (Flower), Done. (0.008s)\n",
      "image 7/10 C:\\Users\\user\\plant\\yolov5\\data\\test_img\\Me mil (Flower)\\6.jpg: 512x416 Done. (0.011s)\n",
      "image 8/10 C:\\Users\\user\\plant\\yolov5\\data\\test_img\\Me mil (Flower)\\7.jpg: 384x512 Done. (0.009s)\n",
      "image 9/10 C:\\Users\\user\\plant\\yolov5\\data\\test_img\\Me mil (Flower)\\8.jpg: 352x512 2 Me mil (Flower)s, Done. (0.008s)\n",
      "image 10/10 C:\\Users\\user\\plant\\yolov5\\data\\test_img\\Me mil (Flower)\\9.jpg: 352x512 1 Me mil (Flower), Done. (0.008s)\n",
      "Speed: 0.7ms pre-process, 9.4ms inference, 0.9ms NMS per image at shape (1, 3, 512, 512)\n",
      "Results saved to \u001b[1mruns\\detect\\Me mil (Flower)\u001b[0m\n"
     ]
    },
    {
     "name": "stdout",
     "output_type": "stream",
     "text": [
      "\u001b[31m\u001b[1mrequirements:\u001b[0m opencv-python>=4.1.2 not found and is required by YOLOv5, attempting auto-update...\n",
      "\u001b[31m\u001b[1mrequirements:\u001b[0m 'pip install opencv-python>=4.1.2' skipped (offline)\n",
      "Sucess detection:Me mil (Leaf-B)\n"
     ]
    },
    {
     "name": "stderr",
     "output_type": "stream",
     "text": [
      "\u001b[34m\u001b[1mdetect: \u001b[0mweights=['plant_256.pt'], source=data/test_img/Me mil (Leaf-B)/, data=data/plant.yaml, imgsz=[512, 512], conf_thres=0.3, iou_thres=0.45, max_det=1000, device=0, view_img=False, save_txt=False, save_conf=False, save_crop=False, nosave=False, classes=None, agnostic_nms=False, augment=False, visualize=False, update=False, project=runs\\detect, name=Me mil (Leaf-B), exist_ok=False, line_thickness=3, hide_labels=False, hide_conf=False, half=False, dnn=False\n",
      "YOLOv5  v6.0-189-gaf00134 torch 1.9.0+cu111 CUDA:0 (NVIDIA GeForce RTX 3090, 24576MiB)\n",
      "\n",
      "Fusing layers... \n",
      "Model Summary: 213 layers, 7058671 parameters, 0 gradients\n",
      "image 1/5 C:\\Users\\user\\plant\\yolov5\\data\\test_img\\Me mil (Leaf-B)\\1.jpg: 352x512 Done. (0.012s)\n",
      "image 2/5 C:\\Users\\user\\plant\\yolov5\\data\\test_img\\Me mil (Leaf-B)\\2.jpg: 512x320 Done. (0.011s)\n",
      "image 3/5 C:\\Users\\user\\plant\\yolov5\\data\\test_img\\Me mil (Leaf-B)\\3.jpg: 512x384 Done. (0.011s)\n",
      "image 4/5 C:\\Users\\user\\plant\\yolov5\\data\\test_img\\Me mil (Leaf-B)\\4.jpg: 512x512 Done. (0.008s)\n",
      "image 5/5 C:\\Users\\user\\plant\\yolov5\\data\\test_img\\Me mil (Leaf-B)\\5.jpg: 512x352 Done. (0.011s)\n",
      "Speed: 0.2ms pre-process, 10.6ms inference, 0.0ms NMS per image at shape (1, 3, 512, 512)\n",
      "Results saved to \u001b[1mruns\\detect\\Me mil (Leaf-B)\u001b[0m\n"
     ]
    },
    {
     "name": "stdout",
     "output_type": "stream",
     "text": [
      "\u001b[31m\u001b[1mrequirements:\u001b[0m opencv-python>=4.1.2 not found and is required by YOLOv5, attempting auto-update...\n",
      "\u001b[31m\u001b[1mrequirements:\u001b[0m 'pip install opencv-python>=4.1.2' skipped (offline)\n",
      "Sucess detection:Sun bi gi (Flower)\n"
     ]
    },
    {
     "name": "stderr",
     "output_type": "stream",
     "text": [
      "\u001b[34m\u001b[1mdetect: \u001b[0mweights=['plant_256.pt'], source=data/test_img/Sun bi gi (Flower)/, data=data/plant.yaml, imgsz=[512, 512], conf_thres=0.3, iou_thres=0.45, max_det=1000, device=0, view_img=False, save_txt=False, save_conf=False, save_crop=False, nosave=False, classes=None, agnostic_nms=False, augment=False, visualize=False, update=False, project=runs\\detect, name=Sun bi gi (Flower), exist_ok=False, line_thickness=3, hide_labels=False, hide_conf=False, half=False, dnn=False\n",
      "YOLOv5  v6.0-189-gaf00134 torch 1.9.0+cu111 CUDA:0 (NVIDIA GeForce RTX 3090, 24576MiB)\n",
      "\n",
      "Fusing layers... \n",
      "Model Summary: 213 layers, 7058671 parameters, 0 gradients\n",
      "image 1/10 C:\\Users\\user\\plant\\yolov5\\data\\test_img\\Sun bi gi (Flower)\\1.jpg: 384x512 Done. (0.012s)\n",
      "image 2/10 C:\\Users\\user\\plant\\yolov5\\data\\test_img\\Sun bi gi (Flower)\\10.jpg: 320x512 1 Sun bi gi (Flower), Done. (0.011s)\n",
      "image 3/10 C:\\Users\\user\\plant\\yolov5\\data\\test_img\\Sun bi gi (Flower)\\2.jpg: 352x512 2 Han ra kkot hyang yu (Flower)s, Done. (0.012s)\n",
      "image 4/10 C:\\Users\\user\\plant\\yolov5\\data\\test_img\\Sun bi gi (Flower)\\3.jpg: 416x512 2 Sun bi gi (Flower)s, Done. (0.011s)\n",
      "image 5/10 C:\\Users\\user\\plant\\yolov5\\data\\test_img\\Sun bi gi (Flower)\\4.jpg: 512x384 1 Sun bi gi (Flower), Done. (0.011s)\n",
      "image 6/10 C:\\Users\\user\\plant\\yolov5\\data\\test_img\\Sun bi gi (Flower)\\5.jpg: 352x512 1 Han ra kkot hyang yu (Flower), Done. (0.009s)\n",
      "image 7/10 C:\\Users\\user\\plant\\yolov5\\data\\test_img\\Sun bi gi (Flower)\\6.jpg: 320x512 2 Sun bi gi (Flower)s, Done. (0.009s)\n",
      "image 8/10 C:\\Users\\user\\plant\\yolov5\\data\\test_img\\Sun bi gi (Flower)\\7.jpg: 512x352 1 Sun bi gi (Flower), Done. (0.011s)\n",
      "image 9/10 C:\\Users\\user\\plant\\yolov5\\data\\test_img\\Sun bi gi (Flower)\\8.jpg: 512x512 4 Sun bi gi (Flower)s, 2 Han ra kkot hyang yu (Flower)s, Done. (0.009s)\n",
      "image 10/10 C:\\Users\\user\\plant\\yolov5\\data\\test_img\\Sun bi gi (Flower)\\9.jpg: 320x512 3 Sun bi gi (Flower)s, Done. (0.009s)\n",
      "Speed: 0.4ms pre-process, 10.4ms inference, 1.4ms NMS per image at shape (1, 3, 512, 512)\n",
      "Results saved to \u001b[1mruns\\detect\\Sun bi gi (Flower)\u001b[0m\n"
     ]
    },
    {
     "name": "stdout",
     "output_type": "stream",
     "text": [
      "\u001b[31m\u001b[1mrequirements:\u001b[0m opencv-python>=4.1.2 not found and is required by YOLOv5, attempting auto-update...\n",
      "\u001b[31m\u001b[1mrequirements:\u001b[0m 'pip install opencv-python>=4.1.2' skipped (offline)\n",
      "Sucess detection:Sun bi gi (Fruit)\n"
     ]
    },
    {
     "name": "stderr",
     "output_type": "stream",
     "text": [
      "\u001b[34m\u001b[1mdetect: \u001b[0mweights=['plant_256.pt'], source=data/test_img/Sun bi gi (Fruit)/, data=data/plant.yaml, imgsz=[512, 512], conf_thres=0.3, iou_thres=0.45, max_det=1000, device=0, view_img=False, save_txt=False, save_conf=False, save_crop=False, nosave=False, classes=None, agnostic_nms=False, augment=False, visualize=False, update=False, project=runs\\detect, name=Sun bi gi (Fruit), exist_ok=False, line_thickness=3, hide_labels=False, hide_conf=False, half=False, dnn=False\n",
      "YOLOv5  v6.0-189-gaf00134 torch 1.9.0+cu111 CUDA:0 (NVIDIA GeForce RTX 3090, 24576MiB)\n",
      "\n",
      "Fusing layers... \n",
      "Model Summary: 213 layers, 7058671 parameters, 0 gradients\n",
      "image 1/10 C:\\Users\\user\\plant\\yolov5\\data\\test_img\\Sun bi gi (Fruit)\\1.jpg: 352x512 Done. (0.012s)\n",
      "image 2/10 C:\\Users\\user\\plant\\yolov5\\data\\test_img\\Sun bi gi (Fruit)\\10.jpg: 352x512 Done. (0.008s)\n",
      "image 3/10 C:\\Users\\user\\plant\\yolov5\\data\\test_img\\Sun bi gi (Fruit)\\2.jpg: 352x512 Done. (0.008s)\n",
      "image 4/10 C:\\Users\\user\\plant\\yolov5\\data\\test_img\\Sun bi gi (Fruit)\\3.jpg: 352x512 1 Sun bi gi (Fruit), Done. (0.008s)\n",
      "image 5/10 C:\\Users\\user\\plant\\yolov5\\data\\test_img\\Sun bi gi (Fruit)\\4.jpg: 352x512 Done. (0.008s)\n",
      "image 6/10 C:\\Users\\user\\plant\\yolov5\\data\\test_img\\Sun bi gi (Fruit)\\5.jpg: 352x512 Done. (0.008s)\n",
      "image 7/10 C:\\Users\\user\\plant\\yolov5\\data\\test_img\\Sun bi gi (Fruit)\\6.jpg: 352x512 Done. (0.008s)\n",
      "image 8/10 C:\\Users\\user\\plant\\yolov5\\data\\test_img\\Sun bi gi (Fruit)\\7.jpg: 352x512 Done. (0.009s)\n",
      "image 9/10 C:\\Users\\user\\plant\\yolov5\\data\\test_img\\Sun bi gi (Fruit)\\8.jpg: 288x512 Done. (0.012s)\n",
      "image 10/10 C:\\Users\\user\\plant\\yolov5\\data\\test_img\\Sun bi gi (Fruit)\\9.jpg: 288x512 Done. (0.008s)\n",
      "Speed: 0.1ms pre-process, 8.9ms inference, 0.7ms NMS per image at shape (1, 3, 512, 512)\n",
      "Results saved to \u001b[1mruns\\detect\\Sun bi gi (Fruit)\u001b[0m\n"
     ]
    }
   ],
   "source": [
    "for name in names:\n",
    "    !python detect.py --source data/test_img/\"{name}\"/ --weights plant_256.pt --data data/plant.yaml --imgsz {imgsz} --conf 0.3 --device 0 --name \"{name}\"\n",
    "    print(\"Sucess detection:\"+name)"
   ]
  },
  {
   "cell_type": "code",
   "execution_count": null,
   "id": "c8c26221",
   "metadata": {},
   "outputs": [],
   "source": []
  }
 ],
 "metadata": {
  "kernelspec": {
   "display_name": "Python 3 (ipykernel)",
   "language": "python",
   "name": "python3"
  },
  "language_info": {
   "codemirror_mode": {
    "name": "ipython",
    "version": 3
   },
   "file_extension": ".py",
   "mimetype": "text/x-python",
   "name": "python",
   "nbconvert_exporter": "python",
   "pygments_lexer": "ipython3",
   "version": "3.8.12"
  }
 },
 "nbformat": 4,
 "nbformat_minor": 5
}
