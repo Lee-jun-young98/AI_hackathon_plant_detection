{
 "cells": [
  {
   "cell_type": "code",
   "execution_count": 1,
   "id": "d07e39dd",
   "metadata": {},
   "outputs": [],
   "source": [
    "import zipfile\n",
    "import os\n",
    "import shutil\n",
    "import json\n",
    "import pandas as pd\n",
    "\n",
    "from collections import Counter\n",
    "from glob import glob"
   ]
  },
  {
   "cell_type": "code",
   "execution_count": 2,
   "id": "b33e5ea9",
   "metadata": {},
   "outputs": [],
   "source": [
    "file_dir = \"../\"\n",
    "ex_dir = \"../test_data\""
   ]
  },
  {
   "cell_type": "code",
   "execution_count": 3,
   "id": "4bce592a",
   "metadata": {},
   "outputs": [
    {
     "name": "stdout",
     "output_type": "stream",
     "text": [
      "완료: 220121testdata-20220121T061729Z-001.zip\n"
     ]
    }
   ],
   "source": [
    "#zip 파일 압축 풀기\n",
    "for name in os.listdir(file_dir):\n",
    "    if \".zip\" in name:\n",
    "        zipfile.ZipFile(file_dir+name).extractall(ex_dir)\n",
    "        print(\"완료: \"+name)"
   ]
  },
  {
   "cell_type": "code",
   "execution_count": 4,
   "id": "6079c24c",
   "metadata": {},
   "outputs": [
    {
     "name": "stdout",
     "output_type": "stream",
     "text": [
      "삭제: 220121testdata-20220121T061729Z-001.zip\n"
     ]
    }
   ],
   "source": [
    "#zip 파일 삭제\n",
    "for name in os.listdir(file_dir):\n",
    "    if \".zip\" in name:\n",
    "        os.remove(file_dir+name)\n",
    "        print(\"삭제: \"+name)"
   ]
  },
  {
   "cell_type": "code",
   "execution_count": 5,
   "id": "9b42f836",
   "metadata": {},
   "outputs": [],
   "source": [
    "data_path = \"../test_data/220121testdata/01.원천데이터/식의약용 자생식물 분석 데이터/\"\n",
    "label_path = \"../test_data/220121testdata/02.라벨링데이터/식의약용 자생식물 분석 데이터/\"\n",
    "move_path = \"../yolov5/data/plant_test_img/\""
   ]
  },
  {
   "cell_type": "code",
   "execution_count": 6,
   "id": "0bbb5ac0",
   "metadata": {},
   "outputs": [],
   "source": [
    "#move path로 json 파일 모두 이동\n",
    "for one in os.listdir(label_path):\n",
    "    one_ = os.listdir(label_path+one)\n",
    "    for two in one_:\n",
    "        try:\n",
    "            two_ = os.listdir(label_path+one+\"/\"+two)\n",
    "            for f in two_:\n",
    "                shutil.move(label_path+one+\"/\"+two+\"/\"+f, move_path)\n",
    "        except:\n",
    "            shutil.move(label_path+one+\"/\"+two, move_path)"
   ]
  },
  {
   "cell_type": "code",
   "execution_count": 7,
   "id": "52a93482",
   "metadata": {},
   "outputs": [],
   "source": [
    "#move path로 이미지 파일 모두 이동\n",
    "for one in os.listdir(data_path):\n",
    "    one_ = os.listdir(data_path+one)\n",
    "    for two in one_:\n",
    "        try:\n",
    "            two_ = os.listdir(data_path+one+\"/\"+two)\n",
    "            for f in two_:\n",
    "                shutil.move(data_path+one+\"/\"+two+\"/\"+f, move_path)\n",
    "        except:\n",
    "            shutil.move(data_path+one+\"/\"+two, move_path)"
   ]
  },
  {
   "cell_type": "code",
   "execution_count": 8,
   "id": "d7da0d76",
   "metadata": {},
   "outputs": [],
   "source": [
    "json_list = glob(move_path+\"*.json\")\n",
    "img_list = glob(move_path+\"*.jpg\")"
   ]
  },
  {
   "cell_type": "code",
   "execution_count": 9,
   "id": "0490c6b8",
   "metadata": {},
   "outputs": [
    {
     "name": "stdout",
     "output_type": "stream",
     "text": [
      "JSON 개수: 540\n",
      "IMG 개수: 540\n"
     ]
    }
   ],
   "source": [
    "#json과 이미지 개수 확인\n",
    "print(\"JSON 개수:\", len(json_list))\n",
    "print(\"IMG 개수:\", len(img_list))"
   ]
  },
  {
   "cell_type": "code",
   "execution_count": 10,
   "id": "f18d6788",
   "metadata": {},
   "outputs": [],
   "source": [
    "plants = []\n",
    "\n",
    "for jf in json_list:\n",
    "    with open(jf, \"r\", encoding=\"UTF-8\") as f:\n",
    "        json_data = json.load(f)\n",
    "        json.dumps(json_data, indent=\"\\t\", ensure_ascii=False)\n",
    "        plants.append(json_data[\"annotations\"][\"object_class_mlsft_nm\"]+\"(\"+\n",
    "                      json_data[\"annotations\"][\"object_class_sclas_nm\"]+\")\")"
   ]
  },
  {
   "cell_type": "code",
   "execution_count": 11,
   "id": "0d7f9c57",
   "metadata": {},
   "outputs": [
    {
     "data": {
      "text/plain": [
       "{'까마귀쪽나무(열매)': 30,\n",
       " '좁은잎천선과(열매)': 30,\n",
       " '참식나무(잎-앞면)': 30,\n",
       " '메밀(꽃)': 30,\n",
       " '메밀(잎-뒷면)': 30,\n",
       " '구실잣밤나무(열매)': 30,\n",
       " '돈나무(열매)': 30,\n",
       " '큰조롱(꽃)': 30,\n",
       " '순비기나무(꽃)': 30,\n",
       " '순비기나무(열매)': 30,\n",
       " '참꽃나무(꽃)': 30,\n",
       " '참가시나무(열매)': 30,\n",
       " '황근(꽃)': 30,\n",
       " '황근(열매)': 30,\n",
       " '해국(꽃)': 30,\n",
       " '한라꽃향유(꽃)': 30,\n",
       " '백량금(열매)': 30,\n",
       " '꽝꽝나무(열매)': 30}"
      ]
     },
     "execution_count": 11,
     "metadata": {},
     "output_type": "execute_result"
    }
   ],
   "source": [
    "#test 이미지 분포 확인\n",
    "dict(Counter(plants))"
   ]
  },
  {
   "cell_type": "code",
   "execution_count": 12,
   "id": "d1bc0915",
   "metadata": {},
   "outputs": [],
   "source": [
    "def convert(size, box):\n",
    "    dw = 1./size[0]\n",
    "    dh = 1./size[1]\n",
    "    x = (box[0] + box[1])/2.0\n",
    "    y = (box[2] + box[3])/2.0\n",
    "    w = box[1] - box[0]\n",
    "    h = box[3] - box[2]\n",
    "    x = x*dw\n",
    "    w = w*dw\n",
    "    y = y*dh\n",
    "    h = h*dh\n",
    "    return(x,y,w,h)"
   ]
  },
  {
   "cell_type": "code",
   "execution_count": 13,
   "id": "49716547",
   "metadata": {},
   "outputs": [],
   "source": [
    "class_dict={\n",
    "    '순비기나무(꽃)':\"0\",\n",
    "    '메밀(꽃)':\"1\",\n",
    "    '큰조롱(꽃)':\"2\",\n",
    "    '순비기나무(열매)':\"3\",\n",
    "    '해국(꽃)':\"4\",\n",
    "    '참꽃나무(꽃)':\"5\",\n",
    "    '참가시나무(열매)':\"6\",\n",
    "    '백량금(열매)':\"7\",\n",
    "    '참식나무(잎-앞면)':\"8\",\n",
    "    '좁은잎천선과(열매)':\"9\",\n",
    "    '구실잣밤나무(열매)':\"10\",\n",
    "    '돈나무(열매)':\"11\",\n",
    "    '황근(열매)':\"12\",\n",
    "    '한라꽃향유(꽃)':\"13\",\n",
    "    '까마귀쪽나무(열매)':\"14\",\n",
    "    '꽝꽝나무(열매)':\"15\",\n",
    "    '메밀(잎-뒷면)':\"16\",\n",
    "    '황근(꽃)':\"17\"\n",
    "}"
   ]
  },
  {
   "cell_type": "code",
   "execution_count": 14,
   "id": "04b201ac",
   "metadata": {},
   "outputs": [],
   "source": [
    "def json2txt(json_path, txt_path):\n",
    "    with open(json_path, \"r\", encoding=\"UTF-8\") as f:\n",
    "        json_data = json.load(f)\n",
    "        json.dumps(json_data, indent=\"\\t\", ensure_ascii=False)\n",
    "        \n",
    "    rsoltn = json_data[\"images\"][\"rsoltn\"].split(\", \")\n",
    "    size = (int(rsoltn[0]), int(rsoltn[1]))\n",
    "    \n",
    "    xcrdnt = json_data[\"annotations\"][\"pyn_xcrdnt\"].split(\",\")\n",
    "    ycrdnt = json_data[\"annotations\"][\"pyn_ycrdnt\"].split(\",\")\n",
    "    \n",
    "    x_loc = list(map(lambda x: int(x), xcrdnt))\n",
    "    y_loc = list(map(lambda x: int(x), ycrdnt))\n",
    "    \n",
    "    xmin = min(x_loc)\n",
    "    xmax = max(x_loc)\n",
    "    ymin = min(y_loc)\n",
    "    ymax = max(y_loc)\n",
    "    \n",
    "    box = (xmin, xmax, ymin, ymax)\n",
    "    conv_box = convert(size, box)\n",
    "    \n",
    "    class_num = class_dict[json_data[\"annotations\"][\"object_class_mlsft_nm\"]+\"(\"+json_data[\"annotations\"][\"object_class_sclas_nm\"]+\")\"]\n",
    "    \n",
    "    row = class_num+\" \"+str(conv_box[0])+\" \"+str(conv_box[1])+\" \"+str(conv_box[2])+\" \"+str(conv_box[3])\n",
    "        \n",
    "    with open(txt_path, \"w\") as f:\n",
    "        f.write(\"\\n\".join([row])+\"\\n\")"
   ]
  },
  {
   "cell_type": "code",
   "execution_count": 15,
   "id": "355475e5",
   "metadata": {},
   "outputs": [],
   "source": [
    "file_list = list(map(lambda x:x.split(\".json\")[0], json_list))"
   ]
  },
  {
   "cell_type": "code",
   "execution_count": 16,
   "id": "366af335",
   "metadata": {},
   "outputs": [],
   "source": [
    "#yolo format에 맞는 txt 파일 생성\n",
    "for f in file_list: json2txt(f+\".json\", f+\".txt\")"
   ]
  },
  {
   "cell_type": "code",
   "execution_count": 17,
   "id": "d3c9ef0d",
   "metadata": {},
   "outputs": [],
   "source": [
    "test = list(map(lambda x: x.split(\"yolov5/\")[1]+\".jpg\", file_list))"
   ]
  },
  {
   "cell_type": "code",
   "execution_count": 18,
   "id": "a6975e99",
   "metadata": {},
   "outputs": [],
   "source": [
    "with open(\"../yolov5/data/plant_test.txt\", \"w\") as f:\n",
    "    f.write(\"\\n\".join(test)+\"\\n\")"
   ]
  },
  {
   "cell_type": "code",
   "execution_count": 19,
   "id": "638cd0f8",
   "metadata": {},
   "outputs": [
    {
     "data": {
      "text/plain": [
       "'C:\\\\Users\\\\user\\\\plant\\\\yolov5'"
      ]
     },
     "execution_count": 19,
     "metadata": {},
     "output_type": "execute_result"
    }
   ],
   "source": [
    "#경로 설정\n",
    "os.chdir(\"../yolov5\")\n",
    "\n",
    "#경로 확인\n",
    "os.getcwd()"
   ]
  },
  {
   "cell_type": "code",
   "execution_count": 20,
   "id": "06af9879",
   "metadata": {
    "scrolled": false
   },
   "outputs": [
    {
     "name": "stdout",
     "output_type": "stream",
     "text": [
      "\u001b[31m\u001b[1mrequirements:\u001b[0m opencv-python>=4.1.2 not found and is required by YOLOv5, attempting auto-update...\n",
      "\u001b[31m\u001b[1mrequirements:\u001b[0m 'pip install opencv-python>=4.1.2' skipped (offline)\n"
     ]
    },
    {
     "name": "stderr",
     "output_type": "stream",
     "text": [
      "\u001b[34m\u001b[1mval: \u001b[0mdata=data/plant_test.yaml, weights=['plant_256.pt'], batch_size=32, imgsz=256, conf_thres=0.001, iou_thres=0.6, task=val, device=0, workers=8, single_cls=False, augment=False, verbose=False, save_txt=False, save_hybrid=False, save_conf=False, save_json=False, project=runs\\val, name=exp, exist_ok=False, half=False, dnn=False\n",
      "YOLOv5  v6.0-189-gaf00134 torch 1.9.0+cu111 CUDA:0 (NVIDIA GeForce RTX 3090, 24576MiB)\n",
      "\n",
      "Fusing layers... \n",
      "Model Summary: 213 layers, 7058671 parameters, 0 gradients\n",
      "\n",
      "\u001b[34m\u001b[1mval: \u001b[0mScanning 'data\\plant_test' images and labels...:   0%|          | 0/540 [00:00<?, ?it/s]\n",
      "\u001b[34m\u001b[1mval: \u001b[0mScanning 'data\\plant_test' images and labels...1 found, 0 missing, 0 empty, 0 corrupted:   0%|          | 1/540 [00:07<1:09:46,  7.77s/it]\n",
      "\u001b[34m\u001b[1mval: \u001b[0mScanning 'data\\plant_test' images and labels...5 found, 0 missing, 0 empty, 0 corrupted:   1%|          | 5/540 [00:07<10:31,  1.18s/it]  \n",
      "\u001b[34m\u001b[1mval: \u001b[0mScanning 'data\\plant_test' images and labels...8 found, 0 missing, 0 empty, 0 corrupted:   1%|1         | 8/540 [00:08<05:48,  1.53it/s]\n",
      "\u001b[34m\u001b[1mval: \u001b[0mScanning 'data\\plant_test' images and labels...12 found, 0 missing, 0 empty, 0 corrupted:   2%|2         | 12/540 [00:08<03:08,  2.81it/s]\n",
      "\u001b[34m\u001b[1mval: \u001b[0mScanning 'data\\plant_test' images and labels...15 found, 0 missing, 0 empty, 0 corrupted:   3%|2         | 15/540 [00:08<02:19,  3.76it/s]\n",
      "\u001b[34m\u001b[1mval: \u001b[0mScanning 'data\\plant_test' images and labels...20 found, 0 missing, 0 empty, 0 corrupted:   4%|3         | 20/540 [00:08<01:21,  6.38it/s]\n",
      "\u001b[34m\u001b[1mval: \u001b[0mScanning 'data\\plant_test' images and labels...23 found, 0 missing, 0 empty, 0 corrupted:   4%|4         | 23/540 [00:08<01:17,  6.65it/s]\n",
      "\u001b[34m\u001b[1mval: \u001b[0mScanning 'data\\plant_test' images and labels...29 found, 0 missing, 0 empty, 0 corrupted:   5%|5         | 29/540 [00:09<01:01,  8.34it/s]\n",
      "\u001b[34m\u001b[1mval: \u001b[0mScanning 'data\\plant_test' images and labels...31 found, 0 missing, 0 empty, 0 corrupted:   6%|5         | 31/540 [00:09<00:55,  9.14it/s]\n",
      "\u001b[34m\u001b[1mval: \u001b[0mScanning 'data\\plant_test' images and labels...331 found, 0 missing, 0 empty, 0 corrupted:  61%|######1   | 331/540 [00:09<00:00, 291.40it/s]\n",
      "\u001b[34m\u001b[1mval: \u001b[0mScanning 'data\\plant_test' images and labels...386 found, 0 missing, 0 empty, 0 corrupted:  71%|#######1  | 386/540 [00:11<00:01, 118.50it/s]\n",
      "\u001b[34m\u001b[1mval: \u001b[0mScanning 'data\\plant_test' images and labels...525 found, 0 missing, 0 empty, 0 corrupted:  97%|#########7| 525/540 [00:11<00:00, 193.15it/s]\n",
      "\u001b[34m\u001b[1mval: \u001b[0mScanning 'data\\plant_test' images and labels...540 found, 0 missing, 0 empty, 0 corrupted: 100%|##########| 540/540 [00:11<00:00, 47.26it/s] \n",
      "\u001b[34m\u001b[1mval: \u001b[0mWARNING: data\\plant_test_img\\CR001_03_11260024.jpg: corrupt JPEG restored and saved\n",
      "\u001b[34m\u001b[1mval: \u001b[0mWARNING: data\\plant_test_img\\CR001_03_11260045.jpg: corrupt JPEG restored and saved\n",
      "\u001b[34m\u001b[1mval: \u001b[0mWARNING: data\\plant_test_img\\CR001_03_11260064.jpg: corrupt JPEG restored and saved\n",
      "\u001b[34m\u001b[1mval: \u001b[0mWARNING: data\\plant_test_img\\CR001_03_11260084.jpg: corrupt JPEG restored and saved\n",
      "\u001b[34m\u001b[1mval: \u001b[0mWARNING: data\\plant_test_img\\CR001_03_11260103.jpg: corrupt JPEG restored and saved\n",
      "\u001b[34m\u001b[1mval: \u001b[0mWARNING: data\\plant_test_img\\CR001_03_11260121.jpg: corrupt JPEG restored and saved\n",
      "\u001b[34m\u001b[1mval: \u001b[0mWARNING: data\\plant_test_img\\CR001_03_11260142.jpg: corrupt JPEG restored and saved\n",
      "\u001b[34m\u001b[1mval: \u001b[0mWARNING: data\\plant_test_img\\CR001_03_11260163.jpg: corrupt JPEG restored and saved\n",
      "\u001b[34m\u001b[1mval: \u001b[0mWARNING: data\\plant_test_img\\CR001_03_11260185.jpg: corrupt JPEG restored and saved\n",
      "\u001b[34m\u001b[1mval: \u001b[0mWARNING: data\\plant_test_img\\CR001_03_11260209.jpg: corrupt JPEG restored and saved\n",
      "\u001b[34m\u001b[1mval: \u001b[0mWARNING: data\\plant_test_img\\CR001_03_11260233.jpg: corrupt JPEG restored and saved\n",
      "\u001b[34m\u001b[1mval: \u001b[0mWARNING: data\\plant_test_img\\CR001_03_11260252.jpg: corrupt JPEG restored and saved\n",
      "\u001b[34m\u001b[1mval: \u001b[0mWARNING: data\\plant_test_img\\CR001_03_11260281.jpg: corrupt JPEG restored and saved\n",
      "\u001b[34m\u001b[1mval: \u001b[0mWARNING: data\\plant_test_img\\CR001_03_11260303.jpg: corrupt JPEG restored and saved\n",
      "\u001b[34m\u001b[1mval: \u001b[0mWARNING: data\\plant_test_img\\CR001_03_11260325.jpg: corrupt JPEG restored and saved\n",
      "\u001b[34m\u001b[1mval: \u001b[0mWARNING: data\\plant_test_img\\CR001_03_11260345.jpg: corrupt JPEG restored and saved\n",
      "\u001b[34m\u001b[1mval: \u001b[0mWARNING: data\\plant_test_img\\CR001_03_11260369.jpg: corrupt JPEG restored and saved\n",
      "\u001b[34m\u001b[1mval: \u001b[0mWARNING: data\\plant_test_img\\CR001_03_11260389.jpg: corrupt JPEG restored and saved\n",
      "\u001b[34m\u001b[1mval: \u001b[0mWARNING: data\\plant_test_img\\CR001_03_11260409.jpg: corrupt JPEG restored and saved\n",
      "\u001b[34m\u001b[1mval: \u001b[0mWARNING: data\\plant_test_img\\CR001_03_11260432.jpg: corrupt JPEG restored and saved\n",
      "\u001b[34m\u001b[1mval: \u001b[0mWARNING: data\\plant_test_img\\CR001_03_11260454.jpg: corrupt JPEG restored and saved\n",
      "\u001b[34m\u001b[1mval: \u001b[0mWARNING: data\\plant_test_img\\CR001_03_11260474.jpg: corrupt JPEG restored and saved\n",
      "\u001b[34m\u001b[1mval: \u001b[0mWARNING: data\\plant_test_img\\CR001_03_11260493.jpg: corrupt JPEG restored and saved\n",
      "\u001b[34m\u001b[1mval: \u001b[0mWARNING: data\\plant_test_img\\CR001_03_11260518.jpg: corrupt JPEG restored and saved\n",
      "\u001b[34m\u001b[1mval: \u001b[0mWARNING: data\\plant_test_img\\CR001_03_11260532.jpg: corrupt JPEG restored and saved\n",
      "\u001b[34m\u001b[1mval: \u001b[0mWARNING: data\\plant_test_img\\CR001_03_11260564.jpg: corrupt JPEG restored and saved\n",
      "\u001b[34m\u001b[1mval: \u001b[0mWARNING: data\\plant_test_img\\CR001_03_11260596.jpg: corrupt JPEG restored and saved\n",
      "\u001b[34m\u001b[1mval: \u001b[0mWARNING: data\\plant_test_img\\CR001_03_11260644.jpg: corrupt JPEG restored and saved\n",
      "\u001b[34m\u001b[1mval: \u001b[0mWARNING: data\\plant_test_img\\CR001_03_11260686.jpg: corrupt JPEG restored and saved\n",
      "\u001b[34m\u001b[1mval: \u001b[0mWARNING: data\\plant_test_img\\CR001_03_11260723.jpg: corrupt JPEG restored and saved\n",
      "\u001b[34m\u001b[1mval: \u001b[0mWARNING: data\\plant_test_img\\CR043_03_11240045.jpg: corrupt JPEG restored and saved\n",
      "\u001b[34m\u001b[1mval: \u001b[0mWARNING: data\\plant_test_img\\CR043_03_11240058.jpg: corrupt JPEG restored and saved\n",
      "\u001b[34m\u001b[1mval: \u001b[0mWARNING: data\\plant_test_img\\CR043_03_11240081.jpg: corrupt JPEG restored and saved\n",
      "\u001b[34m\u001b[1mval: \u001b[0mWARNING: data\\plant_test_img\\CR043_03_11240100.jpg: corrupt JPEG restored and saved\n",
      "\u001b[34m\u001b[1mval: \u001b[0mWARNING: data\\plant_test_img\\CR043_03_11240123.jpg: corrupt JPEG restored and saved\n",
      "\u001b[34m\u001b[1mval: \u001b[0mWARNING: data\\plant_test_img\\CR043_03_11240150.jpg: corrupt JPEG restored and saved\n",
      "\u001b[34m\u001b[1mval: \u001b[0mWARNING: data\\plant_test_img\\CR043_03_11240171.jpg: corrupt JPEG restored and saved\n",
      "\u001b[34m\u001b[1mval: \u001b[0mWARNING: data\\plant_test_img\\CR043_03_11240189.jpg: corrupt JPEG restored and saved\n",
      "\u001b[34m\u001b[1mval: \u001b[0mWARNING: data\\plant_test_img\\CR043_03_11240206.jpg: corrupt JPEG restored and saved\n",
      "\u001b[34m\u001b[1mval: \u001b[0mWARNING: data\\plant_test_img\\CR043_03_11240219.jpg: corrupt JPEG restored and saved\n",
      "\u001b[34m\u001b[1mval: \u001b[0mWARNING: data\\plant_test_img\\CR043_03_11240237.jpg: corrupt JPEG restored and saved\n",
      "\u001b[34m\u001b[1mval: \u001b[0mWARNING: data\\plant_test_img\\CR043_03_11240309.jpg: corrupt JPEG restored and saved\n",
      "\u001b[34m\u001b[1mval: \u001b[0mWARNING: data\\plant_test_img\\CR043_03_11240357.jpg: corrupt JPEG restored and saved\n",
      "\u001b[34m\u001b[1mval: \u001b[0mWARNING: data\\plant_test_img\\CR043_03_11240379.jpg: corrupt JPEG restored and saved\n",
      "\u001b[34m\u001b[1mval: \u001b[0mWARNING: data\\plant_test_img\\CR043_03_11240459.jpg: corrupt JPEG restored and saved\n",
      "\u001b[34m\u001b[1mval: \u001b[0mWARNING: data\\plant_test_img\\CR043_03_11240481.jpg: corrupt JPEG restored and saved\n",
      "\u001b[34m\u001b[1mval: \u001b[0mWARNING: data\\plant_test_img\\CR043_03_11240503.jpg: corrupt JPEG restored and saved\n",
      "\u001b[34m\u001b[1mval: \u001b[0mWARNING: data\\plant_test_img\\CR043_03_11240536.jpg: corrupt JPEG restored and saved\n",
      "\u001b[34m\u001b[1mval: \u001b[0mWARNING: data\\plant_test_img\\CR043_03_11240579.jpg: corrupt JPEG restored and saved\n",
      "\u001b[34m\u001b[1mval: \u001b[0mWARNING: data\\plant_test_img\\CR043_03_11240601.jpg: corrupt JPEG restored and saved\n",
      "\u001b[34m\u001b[1mval: \u001b[0mWARNING: data\\plant_test_img\\CR043_03_11240626.jpg: corrupt JPEG restored and saved\n",
      "\u001b[34m\u001b[1mval: \u001b[0mWARNING: data\\plant_test_img\\CR043_03_11240654.jpg: corrupt JPEG restored and saved\n",
      "\u001b[34m\u001b[1mval: \u001b[0mWARNING: data\\plant_test_img\\CR043_03_11240680.jpg: corrupt JPEG restored and saved\n",
      "\u001b[34m\u001b[1mval: \u001b[0mWARNING: data\\plant_test_img\\CR043_03_11240718.jpg: corrupt JPEG restored and saved\n",
      "\u001b[34m\u001b[1mval: \u001b[0mWARNING: data\\plant_test_img\\CR043_03_11240743.jpg: corrupt JPEG restored and saved\n",
      "\u001b[34m\u001b[1mval: \u001b[0mWARNING: data\\plant_test_img\\CR043_03_11240767.jpg: corrupt JPEG restored and saved\n",
      "\u001b[34m\u001b[1mval: \u001b[0mWARNING: data\\plant_test_img\\CR043_03_11240799.jpg: corrupt JPEG restored and saved\n",
      "\u001b[34m\u001b[1mval: \u001b[0mWARNING: data\\plant_test_img\\CR043_03_11240835.jpg: corrupt JPEG restored and saved\n",
      "\u001b[34m\u001b[1mval: \u001b[0mWARNING: data\\plant_test_img\\CR043_03_11240872.jpg: corrupt JPEG restored and saved\n",
      "\u001b[34m\u001b[1mval: \u001b[0mWARNING: data\\plant_test_img\\CR043_03_11240978.jpg: corrupt JPEG restored and saved\n",
      "\u001b[34m\u001b[1mval: \u001b[0mWARNING: data\\plant_test_img\\CR160_03_11290335.jpg: corrupt JPEG restored and saved\n",
      "\u001b[34m\u001b[1mval: \u001b[0mWARNING: Cache directory data is not writeable: [WinError 183] 파일이 이미 있으므로 만들 수 없습니다: 'data\\\\plant_test.cache.npy' -> 'data\\\\plant_test.cache'\n",
      "\n",
      "               Class     Images     Labels          P          R     mAP@.5 mAP@.5:.95:   0%|          | 0/17 [00:00<?, ?it/s]\n",
      "               Class     Images     Labels          P          R     mAP@.5 mAP@.5:.95:   6%|5         | 1/17 [00:04<01:09,  4.37s/it]\n",
      "               Class     Images     Labels          P          R     mAP@.5 mAP@.5:.95:  12%|#1        | 2/17 [00:04<00:31,  2.07s/it]\n",
      "               Class     Images     Labels          P          R     mAP@.5 mAP@.5:.95:  18%|#7        | 3/17 [00:05<00:18,  1.35s/it]\n"
     ]
    },
    {
     "name": "stderr",
     "output_type": "stream",
     "text": [
      "               Class     Images     Labels          P          R     mAP@.5 mAP@.5:.95:  24%|##3       | 4/17 [00:05<00:12,  1.01it/s]\n",
      "               Class     Images     Labels          P          R     mAP@.5 mAP@.5:.95:  29%|##9       | 5/17 [00:05<00:08,  1.45it/s]\n",
      "               Class     Images     Labels          P          R     mAP@.5 mAP@.5:.95:  35%|###5      | 6/17 [00:06<00:05,  1.94it/s]\n",
      "               Class     Images     Labels          P          R     mAP@.5 mAP@.5:.95:  41%|####1     | 7/17 [00:06<00:04,  2.37it/s]\n",
      "               Class     Images     Labels          P          R     mAP@.5 mAP@.5:.95:  47%|####7     | 8/17 [00:06<00:03,  2.78it/s]\n",
      "               Class     Images     Labels          P          R     mAP@.5 mAP@.5:.95:  53%|#####2    | 9/17 [00:06<00:02,  3.28it/s]\n",
      "               Class     Images     Labels          P          R     mAP@.5 mAP@.5:.95:  59%|#####8    | 10/17 [00:06<00:01,  3.78it/s]\n",
      "               Class     Images     Labels          P          R     mAP@.5 mAP@.5:.95:  65%|######4   | 11/17 [00:07<00:01,  3.96it/s]\n",
      "               Class     Images     Labels          P          R     mAP@.5 mAP@.5:.95:  71%|#######   | 12/17 [00:07<00:01,  4.01it/s]\n",
      "               Class     Images     Labels          P          R     mAP@.5 mAP@.5:.95:  76%|#######6  | 13/17 [00:07<00:01,  3.90it/s]\n",
      "               Class     Images     Labels          P          R     mAP@.5 mAP@.5:.95:  82%|########2 | 14/17 [00:07<00:00,  3.96it/s]\n",
      "               Class     Images     Labels          P          R     mAP@.5 mAP@.5:.95:  88%|########8 | 15/17 [00:08<00:00,  4.14it/s]\n",
      "               Class     Images     Labels          P          R     mAP@.5 mAP@.5:.95:  94%|#########4| 16/17 [00:08<00:00,  4.12it/s]\n",
      "               Class     Images     Labels          P          R     mAP@.5 mAP@.5:.95: 100%|##########| 17/17 [00:08<00:00,  4.03it/s]\n",
      "               Class     Images     Labels          P          R     mAP@.5 mAP@.5:.95: 100%|##########| 17/17 [00:08<00:00,  1.97it/s]\n",
      "                 all        540        540      0.996      0.999      0.995      0.941\n",
      "  Sun bi gi (Flower)        540         30      0.999          1      0.995      0.946\n",
      "     Me mil (Flower)        540         30      0.998          1      0.995      0.945\n",
      "Keun jo rong (Flower)        540         30      0.999          1      0.995      0.832\n",
      "   Sun bi gi (Fruit)        540         30          1      0.981      0.995      0.847\n",
      "    Hae guk (Flower)        540         30      0.995          1      0.995       0.98\n",
      "  Cham kkot (Flower)        540         30      0.997          1      0.995      0.965\n",
      "  Cham ga si (Fruit)        540         30      0.995          1      0.995      0.992\n",
      "Baek ryang geum (Fruit)        540         30      0.996          1      0.995      0.974\n",
      "   Cham sik (Leaf-F)        540         30      0.997          1      0.995      0.966\n",
      "Jop eun ip cheon seon gwa (Fruit)        540         30      0.994          1      0.995      0.942\n",
      "Gu sil jat bam (Fruit)        540         30      0.996          1      0.995      0.969\n",
      "         Don (Fruit)        540         30      0.987          1      0.995      0.955\n",
      "  Hwang geun (Fruit)        540         30      0.999          1      0.995      0.961\n",
      "Han ra kkot hyang yu (Flower)        540         30      0.996          1      0.995      0.932\n",
      "Kka ma gwi jjok (Fruit)        540         30          1          1      0.995      0.787\n",
      "Kkwang kkwang (Fruit)        540         30      0.995          1      0.995      0.979\n",
      "     Me mil (Leaf-B)        540         30      0.996          1      0.995      0.989\n",
      " Hwang geun (Flower)        540         30      0.996          1      0.995      0.982\n",
      "Speed: 0.0ms pre-process, 2.0ms inference, 1.5ms NMS per image at shape (32, 3, 256, 256)\n",
      "Results saved to \u001b[1mruns\\val\\exp\u001b[0m\n"
     ]
    }
   ],
   "source": [
    "!python val.py --weights plant_256.pt --data data/plant_test.yaml --imgsz 256 --device 0"
   ]
  }
 ],
 "metadata": {
  "kernelspec": {
   "display_name": "Python 3 (ipykernel)",
   "language": "python",
   "name": "python3"
  },
  "language_info": {
   "codemirror_mode": {
    "name": "ipython",
    "version": 3
   },
   "file_extension": ".py",
   "mimetype": "text/x-python",
   "name": "python",
   "nbconvert_exporter": "python",
   "pygments_lexer": "ipython3",
   "version": "3.8.12"
  }
 },
 "nbformat": 4,
 "nbformat_minor": 5
}
