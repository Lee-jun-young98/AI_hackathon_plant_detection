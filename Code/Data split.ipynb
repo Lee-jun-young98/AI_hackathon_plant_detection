{
 "cells": [
  {
   "cell_type": "code",
   "execution_count": 1,
   "id": "11e68601",
   "metadata": {},
   "outputs": [],
   "source": [
    "from glob import glob"
   ]
  },
  {
   "cell_type": "code",
   "execution_count": 2,
   "id": "2a161490",
   "metadata": {},
   "outputs": [],
   "source": [
    "file_path = \"../yolov5/data/plant_img/\""
   ]
  },
  {
   "cell_type": "code",
   "execution_count": 3,
   "id": "adc87b5f",
   "metadata": {},
   "outputs": [],
   "source": [
    "json_list = glob(file_path+\"*.json\")"
   ]
  },
  {
   "cell_type": "code",
   "execution_count": 4,
   "id": "514dffd8",
   "metadata": {},
   "outputs": [],
   "source": [
    "path_list = list(map(lambda x: x.split(\".json\")[0], json_list))"
   ]
  },
  {
   "cell_type": "code",
   "execution_count": 5,
   "id": "f92cfccc",
   "metadata": {},
   "outputs": [],
   "source": [
    "data_list = list(map(lambda x: x.split(\"yolov5/\")[1], path_list))"
   ]
  },
  {
   "cell_type": "code",
   "execution_count": 6,
   "id": "076b8ca1",
   "metadata": {},
   "outputs": [],
   "source": [
    "from sklearn.model_selection import train_test_split"
   ]
  },
  {
   "cell_type": "code",
   "execution_count": 7,
   "id": "c8543fbc",
   "metadata": {},
   "outputs": [],
   "source": [
    "train_val, test = train_test_split(data_list, test_size=0.1, random_state=20207188)"
   ]
  },
  {
   "cell_type": "code",
   "execution_count": 8,
   "id": "17cc9f8d",
   "metadata": {},
   "outputs": [],
   "source": [
    "train, valid = train_test_split(train_val, test_size=0.1111, random_state=20207188)"
   ]
  },
  {
   "cell_type": "code",
   "execution_count": 9,
   "id": "98a1c4c7",
   "metadata": {},
   "outputs": [
    {
     "name": "stdout",
     "output_type": "stream",
     "text": [
      "8077 1010 1010\n"
     ]
    }
   ],
   "source": [
    "print(len(train), len(valid), len(test))"
   ]
  },
  {
   "cell_type": "code",
   "execution_count": 10,
   "id": "9748b8ae",
   "metadata": {},
   "outputs": [],
   "source": [
    "train = list(map(lambda x: x+\".jpg\", train))\n",
    "valid = list(map(lambda x: x+\".jpg\", valid))\n",
    "test = list(map(lambda x: x+\".jpg\", test))"
   ]
  },
  {
   "cell_type": "code",
   "execution_count": 11,
   "id": "a270207a",
   "metadata": {},
   "outputs": [],
   "source": [
    "with open(\"../yolov5/data/train.txt\", \"w\") as f:\n",
    "    f.write(\"\\n\".join(train)+\"\\n\")"
   ]
  },
  {
   "cell_type": "code",
   "execution_count": 12,
   "id": "fd6bdda0",
   "metadata": {},
   "outputs": [],
   "source": [
    "with open(\"../yolov5/data/valid.txt\", \"w\") as f:\n",
    "    f.write(\"\\n\".join(valid)+\"\\n\")"
   ]
  },
  {
   "cell_type": "code",
   "execution_count": 13,
   "id": "73474769",
   "metadata": {},
   "outputs": [],
   "source": [
    "with open(\"../yolov5/data/test.txt\", \"w\") as f:\n",
    "    f.write(\"\\n\".join(test)+\"\\n\")"
   ]
  }
 ],
 "metadata": {
  "kernelspec": {
   "display_name": "Python 3 (ipykernel)",
   "language": "python",
   "name": "python3"
  },
  "language_info": {
   "codemirror_mode": {
    "name": "ipython",
    "version": 3
   },
   "file_extension": ".py",
   "mimetype": "text/x-python",
   "name": "python",
   "nbconvert_exporter": "python",
   "pygments_lexer": "ipython3",
   "version": "3.8.12"
  }
 },
 "nbformat": 4,
 "nbformat_minor": 5
}
