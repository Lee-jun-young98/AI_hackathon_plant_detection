{
 "cells": [
  {
   "cell_type": "code",
   "execution_count": 159,
   "id": "ac4eae72",
   "metadata": {},
   "outputs": [],
   "source": [
    "import json\n",
    "import pandas as pd\n",
    "\n",
    "from collections import Counter\n",
    "from glob import glob"
   ]
  },
  {
   "cell_type": "code",
   "execution_count": 160,
   "id": "11bb154b",
   "metadata": {},
   "outputs": [],
   "source": [
    "file_path = \"../yolov5/data/plant_img/\""
   ]
  },
  {
   "cell_type": "code",
   "execution_count": 161,
   "id": "cc4c6683",
   "metadata": {},
   "outputs": [],
   "source": [
    "json_list = glob(file_path+\"*.json\")"
   ]
  },
  {
   "cell_type": "code",
   "execution_count": 162,
   "id": "72802a65",
   "metadata": {},
   "outputs": [],
   "source": [
    "img_list = glob(file_path+\"*.jpg\")"
   ]
  },
  {
   "cell_type": "code",
   "execution_count": 163,
   "id": "dadbaa75",
   "metadata": {},
   "outputs": [
    {
     "name": "stdout",
     "output_type": "stream",
     "text": [
      "JSON 개수: 10097\n"
     ]
    }
   ],
   "source": [
    "print(\"JSON 개수:\", len(json_list))"
   ]
  },
  {
   "cell_type": "code",
   "execution_count": 164,
   "id": "5811bcb1",
   "metadata": {},
   "outputs": [
    {
     "name": "stdout",
     "output_type": "stream",
     "text": [
      "IMG 개수: 10127\n"
     ]
    }
   ],
   "source": [
    "print(\"IMG 개수:\", len(img_list))"
   ]
  },
  {
   "cell_type": "code",
   "execution_count": 178,
   "id": "336dc688",
   "metadata": {},
   "outputs": [],
   "source": [
    "json_img = []"
   ]
  },
  {
   "cell_type": "code",
   "execution_count": 179,
   "id": "4ffa8a58",
   "metadata": {},
   "outputs": [],
   "source": [
    "json_img = json_img + list(map(lambda x: x.split(\".json\")[0], json_list))"
   ]
  },
  {
   "cell_type": "code",
   "execution_count": 180,
   "id": "ba251845",
   "metadata": {},
   "outputs": [],
   "source": [
    "json_img = json_img + list(map(lambda x: x.split(\".jpg\")[0], img_list))"
   ]
  },
  {
   "cell_type": "code",
   "execution_count": 181,
   "id": "2ad6665b",
   "metadata": {},
   "outputs": [],
   "source": [
    "ji_dict=dict(Counter(json_img))"
   ]
  },
  {
   "cell_type": "code",
   "execution_count": 182,
   "id": "d0df355e",
   "metadata": {},
   "outputs": [],
   "source": [
    "ji_df=pd.DataFrame(list(ji_dict.items()), columns=[\"json_img\", \"freq\"])"
   ]
  },
  {
   "cell_type": "code",
   "execution_count": 187,
   "id": "1494afde",
   "metadata": {},
   "outputs": [],
   "source": [
    "ji = list(ji_df[ji_df[\"freq\"]==1][\"json_img\"])"
   ]
  },
  {
   "cell_type": "code",
   "execution_count": 207,
   "id": "7f5f672f",
   "metadata": {},
   "outputs": [
    {
     "name": "stdout",
     "output_type": "stream",
     "text": [
      "Freq 1 in JSON: 0\n"
     ]
    }
   ],
   "source": [
    "print(\"Freq 1 in JSON:\", sum(map(lambda x: x+\".json\" in json_list, ji)))"
   ]
  },
  {
   "cell_type": "code",
   "execution_count": 208,
   "id": "bdca6369",
   "metadata": {},
   "outputs": [
    {
     "name": "stdout",
     "output_type": "stream",
     "text": [
      "Freq 1 in IMG: 30\n"
     ]
    }
   ],
   "source": [
    "print(\"Freq 1 in IMG:\", sum(map(lambda x: x+\".jpg\" in img_list, ji)))"
   ]
  },
  {
   "cell_type": "code",
   "execution_count": null,
   "id": "b93192ec",
   "metadata": {},
   "outputs": [],
   "source": [
    "#결론: JSON이 없는 이미지 파일이 30개 존재 (실험 제외)"
   ]
  },
  {
   "cell_type": "code",
   "execution_count": 117,
   "id": "7dd971db",
   "metadata": {},
   "outputs": [],
   "source": [
    "plants = []"
   ]
  },
  {
   "cell_type": "code",
   "execution_count": 125,
   "id": "69c1c7e9",
   "metadata": {},
   "outputs": [],
   "source": [
    "for jf in json_list:\n",
    "    with open(jf, \"r\", encoding=\"UTF-8\") as f:\n",
    "        json_data = json.load(f)\n",
    "        json.dumps(json_data, indent=\"\\t\", ensure_ascii=False)\n",
    "        plants.append(json_data[\"annotations\"][\"object_class_mlsft_nm\"])"
   ]
  },
  {
   "cell_type": "code",
   "execution_count": 128,
   "id": "930ae686",
   "metadata": {},
   "outputs": [
    {
     "data": {
      "text/plain": [
       "{'까마귀쪽나무': 565,\n",
       " '좁은잎천선과': 559,\n",
       " '참식나무': 540,\n",
       " '메밀': 1089,\n",
       " '구실잣밤나무': 547,\n",
       " '돈나무': 563,\n",
       " '큰조롱': 567,\n",
       " '순비기나무': 1159,\n",
       " '참꽃나무': 591,\n",
       " '참가시나무': 572,\n",
       " '황근': 1103,\n",
       " '해국': 567,\n",
       " '한라꽃향유': 543,\n",
       " '백량금': 564,\n",
       " '꽝꽝나무': 568}"
      ]
     },
     "execution_count": 128,
     "metadata": {},
     "output_type": "execute_result"
    }
   ],
   "source": [
    "dict(Counter(plants)) #총 15개의 종"
   ]
  },
  {
   "cell_type": "code",
   "execution_count": 133,
   "id": "88bafaef",
   "metadata": {},
   "outputs": [],
   "source": [
    "plants2 = []"
   ]
  },
  {
   "cell_type": "code",
   "execution_count": 134,
   "id": "2c344f75",
   "metadata": {},
   "outputs": [],
   "source": [
    "for jf in json_list:\n",
    "    with open(jf, \"r\", encoding=\"UTF-8\") as f:\n",
    "        json_data = json.load(f)\n",
    "        json.dumps(json_data, indent=\"\\t\", ensure_ascii=False)\n",
    "        plants2.append(json_data[\"annotations\"][\"object_class_mlsft_nm\"]+\"(\"+\n",
    "                       json_data[\"annotations\"][\"object_class_sclas_nm\"]+\")\")"
   ]
  },
  {
   "cell_type": "code",
   "execution_count": 135,
   "id": "488d8327",
   "metadata": {},
   "outputs": [
    {
     "data": {
      "text/plain": [
       "{'까마귀쪽나무(열매)': 565,\n",
       " '좁은잎천선과(열매)': 559,\n",
       " '참식나무(잎-앞면)': 540,\n",
       " '메밀(꽃)': 549,\n",
       " '메밀(잎-뒷면)': 540,\n",
       " '구실잣밤나무(열매)': 547,\n",
       " '돈나무(열매)': 563,\n",
       " '큰조롱(꽃)': 567,\n",
       " '순비기나무(꽃)': 570,\n",
       " '순비기나무(열매)': 589,\n",
       " '참꽃나무(꽃)': 591,\n",
       " '참가시나무(열매)': 572,\n",
       " '황근(꽃)': 538,\n",
       " '황근(열매)': 565,\n",
       " '해국(꽃)': 567,\n",
       " '한라꽃향유(꽃)': 543,\n",
       " '백량금(열매)': 564,\n",
       " '꽝꽝나무(열매)': 568}"
      ]
     },
     "execution_count": 135,
     "metadata": {},
     "output_type": "execute_result"
    }
   ],
   "source": [
    "dict(Counter(plants2))"
   ]
  },
  {
   "cell_type": "code",
   "execution_count": 210,
   "id": "908638e6",
   "metadata": {},
   "outputs": [
    {
     "data": {
      "text/plain": [
       "['순비기나무(꽃)',\n",
       " '메밀(꽃)',\n",
       " '큰조롱(꽃)',\n",
       " '순비기나무(열매)',\n",
       " '해국(꽃)',\n",
       " '참꽃나무(꽃)',\n",
       " '참가시나무(열매)',\n",
       " '백량금(열매)',\n",
       " '참식나무(잎-앞면)',\n",
       " '좁은잎천선과(열매)',\n",
       " '구실잣밤나무(열매)',\n",
       " '돈나무(열매)',\n",
       " '황근(열매)',\n",
       " '한라꽃향유(꽃)',\n",
       " '까마귀쪽나무(열매)',\n",
       " '꽝꽝나무(열매)',\n",
       " '메밀(잎-뒷면)',\n",
       " '황근(꽃)']"
      ]
     },
     "execution_count": 210,
     "metadata": {},
     "output_type": "execute_result"
    }
   ],
   "source": [
    "list(set(plants2))"
   ]
  },
  {
   "cell_type": "code",
   "execution_count": null,
   "id": "4b71ab8f",
   "metadata": {},
   "outputs": [],
   "source": [
    "#메밀, 순비기나무, 황근만 여러(2개) 종류\n",
    "#즉, 18개의 클래스가 있음을 확인"
   ]
  }
 ],
 "metadata": {
  "kernelspec": {
   "display_name": "Python 3 (ipykernel)",
   "language": "python",
   "name": "python3"
  },
  "language_info": {
   "codemirror_mode": {
    "name": "ipython",
    "version": 3
   },
   "file_extension": ".py",
   "mimetype": "text/x-python",
   "name": "python",
   "nbconvert_exporter": "python",
   "pygments_lexer": "ipython3",
   "version": "3.8.12"
  }
 },
 "nbformat": 4,
 "nbformat_minor": 5
}
